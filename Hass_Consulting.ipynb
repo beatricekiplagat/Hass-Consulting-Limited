{
  "nbformat": 4,
  "nbformat_minor": 0,
  "metadata": {
    "colab": {
      "name": "Hass Consulting.ipynb",
      "provenance": [],
      "collapsed_sections": [],
      "toc_visible": true,
      "include_colab_link": true
    },
    "kernelspec": {
      "display_name": "Python 3",
      "name": "python3"
    }
  },
  "cells": [
    {
      "cell_type": "markdown",
      "metadata": {
        "id": "view-in-github",
        "colab_type": "text"
      },
      "source": [
        "<a href=\"https://colab.research.google.com/github/beatricekiplagat/Hass-Consulting-Limited/blob/main/Hass_Consulting.ipynb\" target=\"_parent\"><img src=\"https://colab.research.google.com/assets/colab-badge.svg\" alt=\"Open In Colab\"/></a>"
      ]
    },
    {
      "cell_type": "markdown",
      "metadata": {
        "id": "xMxtPsqcTsSH"
      },
      "source": [
        "# Hass Consulting Regression Analysis"
      ]
    },
    {
      "cell_type": "markdown",
      "metadata": {
        "id": "WuDdxrZQGqs6"
      },
      "source": [
        "As a Data Scientist for Hass Consulting Company which is a real estate leader with over 25 years of experience, I have been tasked to study the factors that affect housing prices using the given information on real estate properties that was collected over the past few months. Later onwards, create a model that would allow the company to accurately predict the sale of prices upon being provided with the predictor variables. "
      ]
    },
    {
      "cell_type": "markdown",
      "metadata": {
        "id": "kLG2VTrnTvYL"
      },
      "source": [
        "## 1. Defining the Question"
      ]
    },
    {
      "cell_type": "markdown",
      "metadata": {
        "id": "XecOwPNorl2W"
      },
      "source": [
        "### a) Specifying the Data Analytic Question"
      ]
    },
    {
      "cell_type": "markdown",
      "metadata": {
        "id": "fZOpvz6fWyFa"
      },
      "source": [
        "> I am required to perform modeling using the following regression techniques then evaluate their performance:\n",
        "* Multiple Linear Regression\n",
        "* Quantile Regression\n",
        "* Ridge Regression\n",
        "* Lasso Regression\n",
        "* Elastic Net Regression\n",
        "\n",
        "> I will then provide my observations and recommendation on the suitability of each of the tested models on their appropriateness of solving the given problem. "
      ]
    },
    {
      "cell_type": "markdown",
      "metadata": {
        "id": "J4wfHZwQrs-t"
      },
      "source": [
        "### b) Defining the Metric for Success"
      ]
    },
    {
      "cell_type": "markdown",
      "metadata": {
        "id": "4NP8ZiOYIT0I"
      },
      "source": [
        "> Our oroject would be deemed successful if we are able to predict house prices using the regression models, evaluate them and give recommendations on the suitability of each."
      ]
    },
    {
      "cell_type": "markdown",
      "metadata": {
        "id": "7KMRBJ7zr9HD"
      },
      "source": [
        "### c) Recording the Experimental Design"
      ]
    },
    {
      "cell_type": "markdown",
      "metadata": {
        "id": "0GAZuXr_KbSu"
      },
      "source": [
        "We shall follow the following steps during this analysis:\n",
        "1. Defining the Question\n",
        "2. Reading the Data.\n",
        "3. Checking the Data.\n",
        "4. Tidying the Data & Merging\n",
        "5. Performing EDA\n",
        "6. Regresion Analysis\n",
        "7. Evaluation\n",
        "8. Recommendations\n",
        "9. Challenging the Solution"
      ]
    },
    {
      "cell_type": "markdown",
      "metadata": {
        "id": "iUNbvIvnT7ep"
      },
      "source": [
        "## 2. Reading the Data"
      ]
    },
    {
      "cell_type": "code",
      "metadata": {
        "colab": {
          "base_uri": "https://localhost:8080/",
          "height": 439
        },
        "id": "XJn2KjW-WMlG",
        "outputId": "8af10e81-5f18-462a-8b02-26d10ac76e22"
      },
      "source": [
        "# Importing the libraries to be used\n",
        "#\n",
        "import pandas as pd\n",
        "import numpy as np\n",
        "import seaborn as sns\n",
        "import scipy as sp\n",
        "import matplotlib.pyplot as plt\n",
        "%matplotlib inline\n",
        "import math\n",
        "from sklearn.preprocessing import LabelEncoder\n",
        "from sklearn.linear_model import LinearRegression\n",
        "from sklearn.preprocessing import StandardScaler\n",
        "from sklearn.linear_model import Ridge\n",
        "from sklearn.linear_model import Lasso\n",
        "from sklearn.linear_model import ElasticNet\n",
        "from sklearn.model_selection import train_test_split\n",
        "from sklearn import metrics\n",
        "from sklearn.metrics import mean_squared_error, r2_score\n",
        "from sklearn.model_selection import GridSearchCV\n",
        "from sklearn.model_selection import RandomizedSearchCV\n",
        "from sklearn.metrics import accuracy_score\n",
        "from sklearn.metrics import confusion_matrix\n",
        "from sklearn import model_selection\n",
        "from sklearn import linear_model\n",
        "from sklearn.model_selection import KFold\n",
        "from sklearn.model_selection import cross_validate\n",
        "from sklearn.model_selection import cross_val_score\n",
        "\n",
        "import warnings\n",
        "warnings.filterwarnings('ignore')\n",
        "\n",
        "# reading our csv files\n",
        "df = pd.read_csv('house_data.csv')\n",
        "df"
      ],
      "execution_count": null,
      "outputs": [
        {
          "output_type": "execute_result",
          "data": {
            "text/html": [
              "<div>\n",
              "<style scoped>\n",
              "    .dataframe tbody tr th:only-of-type {\n",
              "        vertical-align: middle;\n",
              "    }\n",
              "\n",
              "    .dataframe tbody tr th {\n",
              "        vertical-align: top;\n",
              "    }\n",
              "\n",
              "    .dataframe thead th {\n",
              "        text-align: right;\n",
              "    }\n",
              "</style>\n",
              "<table border=\"1\" class=\"dataframe\">\n",
              "  <thead>\n",
              "    <tr style=\"text-align: right;\">\n",
              "      <th></th>\n",
              "      <th>id</th>\n",
              "      <th>price</th>\n",
              "      <th>bedrooms</th>\n",
              "      <th>bathrooms</th>\n",
              "      <th>sqft_living</th>\n",
              "      <th>sqft_lot</th>\n",
              "      <th>floors</th>\n",
              "      <th>waterfront</th>\n",
              "      <th>view</th>\n",
              "      <th>condition</th>\n",
              "      <th>grade</th>\n",
              "      <th>sqft_above</th>\n",
              "      <th>sqft_basement</th>\n",
              "      <th>yr_built</th>\n",
              "      <th>yr_renovated</th>\n",
              "      <th>zipcode</th>\n",
              "      <th>lat</th>\n",
              "      <th>long</th>\n",
              "      <th>sqft_living15</th>\n",
              "      <th>sqft_lot15</th>\n",
              "    </tr>\n",
              "  </thead>\n",
              "  <tbody>\n",
              "    <tr>\n",
              "      <th>0</th>\n",
              "      <td>7129300520</td>\n",
              "      <td>221900.0</td>\n",
              "      <td>3</td>\n",
              "      <td>1.00</td>\n",
              "      <td>1180</td>\n",
              "      <td>5650</td>\n",
              "      <td>1.0</td>\n",
              "      <td>0</td>\n",
              "      <td>0</td>\n",
              "      <td>3</td>\n",
              "      <td>7</td>\n",
              "      <td>1180</td>\n",
              "      <td>0</td>\n",
              "      <td>1955</td>\n",
              "      <td>0</td>\n",
              "      <td>98178</td>\n",
              "      <td>47.5112</td>\n",
              "      <td>-122.257</td>\n",
              "      <td>1340</td>\n",
              "      <td>5650</td>\n",
              "    </tr>\n",
              "    <tr>\n",
              "      <th>1</th>\n",
              "      <td>6414100192</td>\n",
              "      <td>538000.0</td>\n",
              "      <td>3</td>\n",
              "      <td>2.25</td>\n",
              "      <td>2570</td>\n",
              "      <td>7242</td>\n",
              "      <td>2.0</td>\n",
              "      <td>0</td>\n",
              "      <td>0</td>\n",
              "      <td>3</td>\n",
              "      <td>7</td>\n",
              "      <td>2170</td>\n",
              "      <td>400</td>\n",
              "      <td>1951</td>\n",
              "      <td>1991</td>\n",
              "      <td>98125</td>\n",
              "      <td>47.7210</td>\n",
              "      <td>-122.319</td>\n",
              "      <td>1690</td>\n",
              "      <td>7639</td>\n",
              "    </tr>\n",
              "    <tr>\n",
              "      <th>2</th>\n",
              "      <td>5631500400</td>\n",
              "      <td>180000.0</td>\n",
              "      <td>2</td>\n",
              "      <td>1.00</td>\n",
              "      <td>770</td>\n",
              "      <td>10000</td>\n",
              "      <td>1.0</td>\n",
              "      <td>0</td>\n",
              "      <td>0</td>\n",
              "      <td>3</td>\n",
              "      <td>6</td>\n",
              "      <td>770</td>\n",
              "      <td>0</td>\n",
              "      <td>1933</td>\n",
              "      <td>0</td>\n",
              "      <td>98028</td>\n",
              "      <td>47.7379</td>\n",
              "      <td>-122.233</td>\n",
              "      <td>2720</td>\n",
              "      <td>8062</td>\n",
              "    </tr>\n",
              "    <tr>\n",
              "      <th>3</th>\n",
              "      <td>2487200875</td>\n",
              "      <td>604000.0</td>\n",
              "      <td>4</td>\n",
              "      <td>3.00</td>\n",
              "      <td>1960</td>\n",
              "      <td>5000</td>\n",
              "      <td>1.0</td>\n",
              "      <td>0</td>\n",
              "      <td>0</td>\n",
              "      <td>5</td>\n",
              "      <td>7</td>\n",
              "      <td>1050</td>\n",
              "      <td>910</td>\n",
              "      <td>1965</td>\n",
              "      <td>0</td>\n",
              "      <td>98136</td>\n",
              "      <td>47.5208</td>\n",
              "      <td>-122.393</td>\n",
              "      <td>1360</td>\n",
              "      <td>5000</td>\n",
              "    </tr>\n",
              "    <tr>\n",
              "      <th>4</th>\n",
              "      <td>1954400510</td>\n",
              "      <td>510000.0</td>\n",
              "      <td>3</td>\n",
              "      <td>2.00</td>\n",
              "      <td>1680</td>\n",
              "      <td>8080</td>\n",
              "      <td>1.0</td>\n",
              "      <td>0</td>\n",
              "      <td>0</td>\n",
              "      <td>3</td>\n",
              "      <td>8</td>\n",
              "      <td>1680</td>\n",
              "      <td>0</td>\n",
              "      <td>1987</td>\n",
              "      <td>0</td>\n",
              "      <td>98074</td>\n",
              "      <td>47.6168</td>\n",
              "      <td>-122.045</td>\n",
              "      <td>1800</td>\n",
              "      <td>7503</td>\n",
              "    </tr>\n",
              "    <tr>\n",
              "      <th>...</th>\n",
              "      <td>...</td>\n",
              "      <td>...</td>\n",
              "      <td>...</td>\n",
              "      <td>...</td>\n",
              "      <td>...</td>\n",
              "      <td>...</td>\n",
              "      <td>...</td>\n",
              "      <td>...</td>\n",
              "      <td>...</td>\n",
              "      <td>...</td>\n",
              "      <td>...</td>\n",
              "      <td>...</td>\n",
              "      <td>...</td>\n",
              "      <td>...</td>\n",
              "      <td>...</td>\n",
              "      <td>...</td>\n",
              "      <td>...</td>\n",
              "      <td>...</td>\n",
              "      <td>...</td>\n",
              "      <td>...</td>\n",
              "    </tr>\n",
              "    <tr>\n",
              "      <th>21608</th>\n",
              "      <td>263000018</td>\n",
              "      <td>360000.0</td>\n",
              "      <td>3</td>\n",
              "      <td>2.50</td>\n",
              "      <td>1530</td>\n",
              "      <td>1131</td>\n",
              "      <td>3.0</td>\n",
              "      <td>0</td>\n",
              "      <td>0</td>\n",
              "      <td>3</td>\n",
              "      <td>8</td>\n",
              "      <td>1530</td>\n",
              "      <td>0</td>\n",
              "      <td>2009</td>\n",
              "      <td>0</td>\n",
              "      <td>98103</td>\n",
              "      <td>47.6993</td>\n",
              "      <td>-122.346</td>\n",
              "      <td>1530</td>\n",
              "      <td>1509</td>\n",
              "    </tr>\n",
              "    <tr>\n",
              "      <th>21609</th>\n",
              "      <td>6600060120</td>\n",
              "      <td>400000.0</td>\n",
              "      <td>4</td>\n",
              "      <td>2.50</td>\n",
              "      <td>2310</td>\n",
              "      <td>5813</td>\n",
              "      <td>2.0</td>\n",
              "      <td>0</td>\n",
              "      <td>0</td>\n",
              "      <td>3</td>\n",
              "      <td>8</td>\n",
              "      <td>2310</td>\n",
              "      <td>0</td>\n",
              "      <td>2014</td>\n",
              "      <td>0</td>\n",
              "      <td>98146</td>\n",
              "      <td>47.5107</td>\n",
              "      <td>-122.362</td>\n",
              "      <td>1830</td>\n",
              "      <td>7200</td>\n",
              "    </tr>\n",
              "    <tr>\n",
              "      <th>21610</th>\n",
              "      <td>1523300141</td>\n",
              "      <td>402101.0</td>\n",
              "      <td>2</td>\n",
              "      <td>0.75</td>\n",
              "      <td>1020</td>\n",
              "      <td>1350</td>\n",
              "      <td>2.0</td>\n",
              "      <td>0</td>\n",
              "      <td>0</td>\n",
              "      <td>3</td>\n",
              "      <td>7</td>\n",
              "      <td>1020</td>\n",
              "      <td>0</td>\n",
              "      <td>2009</td>\n",
              "      <td>0</td>\n",
              "      <td>98144</td>\n",
              "      <td>47.5944</td>\n",
              "      <td>-122.299</td>\n",
              "      <td>1020</td>\n",
              "      <td>2007</td>\n",
              "    </tr>\n",
              "    <tr>\n",
              "      <th>21611</th>\n",
              "      <td>291310100</td>\n",
              "      <td>400000.0</td>\n",
              "      <td>3</td>\n",
              "      <td>2.50</td>\n",
              "      <td>1600</td>\n",
              "      <td>2388</td>\n",
              "      <td>2.0</td>\n",
              "      <td>0</td>\n",
              "      <td>0</td>\n",
              "      <td>3</td>\n",
              "      <td>8</td>\n",
              "      <td>1600</td>\n",
              "      <td>0</td>\n",
              "      <td>2004</td>\n",
              "      <td>0</td>\n",
              "      <td>98027</td>\n",
              "      <td>47.5345</td>\n",
              "      <td>-122.069</td>\n",
              "      <td>1410</td>\n",
              "      <td>1287</td>\n",
              "    </tr>\n",
              "    <tr>\n",
              "      <th>21612</th>\n",
              "      <td>1523300157</td>\n",
              "      <td>325000.0</td>\n",
              "      <td>2</td>\n",
              "      <td>0.75</td>\n",
              "      <td>1020</td>\n",
              "      <td>1076</td>\n",
              "      <td>2.0</td>\n",
              "      <td>0</td>\n",
              "      <td>0</td>\n",
              "      <td>3</td>\n",
              "      <td>7</td>\n",
              "      <td>1020</td>\n",
              "      <td>0</td>\n",
              "      <td>2008</td>\n",
              "      <td>0</td>\n",
              "      <td>98144</td>\n",
              "      <td>47.5941</td>\n",
              "      <td>-122.299</td>\n",
              "      <td>1020</td>\n",
              "      <td>1357</td>\n",
              "    </tr>\n",
              "  </tbody>\n",
              "</table>\n",
              "<p>21613 rows × 20 columns</p>\n",
              "</div>"
            ],
            "text/plain": [
              "               id     price  bedrooms  ...     long  sqft_living15  sqft_lot15\n",
              "0      7129300520  221900.0         3  ... -122.257           1340        5650\n",
              "1      6414100192  538000.0         3  ... -122.319           1690        7639\n",
              "2      5631500400  180000.0         2  ... -122.233           2720        8062\n",
              "3      2487200875  604000.0         4  ... -122.393           1360        5000\n",
              "4      1954400510  510000.0         3  ... -122.045           1800        7503\n",
              "...           ...       ...       ...  ...      ...            ...         ...\n",
              "21608   263000018  360000.0         3  ... -122.346           1530        1509\n",
              "21609  6600060120  400000.0         4  ... -122.362           1830        7200\n",
              "21610  1523300141  402101.0         2  ... -122.299           1020        2007\n",
              "21611   291310100  400000.0         3  ... -122.069           1410        1287\n",
              "21612  1523300157  325000.0         2  ... -122.299           1020        1357\n",
              "\n",
              "[21613 rows x 20 columns]"
            ]
          },
          "metadata": {
            "tags": []
          },
          "execution_count": 1
        }
      ]
    },
    {
      "cell_type": "markdown",
      "metadata": {
        "id": "OI3P3YnHUEBk"
      },
      "source": [
        "## 3. Checking the Data"
      ]
    },
    {
      "cell_type": "code",
      "metadata": {
        "colab": {
          "base_uri": "https://localhost:8080/",
          "height": 224
        },
        "id": "hw3eMLyNa6dI",
        "outputId": "b4a68a04-3327-4c77-d0c3-9c21fa78435a"
      },
      "source": [
        "# Previewing the first 10 rows\n",
        "#\n",
        "df.head()"
      ],
      "execution_count": null,
      "outputs": [
        {
          "output_type": "execute_result",
          "data": {
            "text/html": [
              "<div>\n",
              "<style scoped>\n",
              "    .dataframe tbody tr th:only-of-type {\n",
              "        vertical-align: middle;\n",
              "    }\n",
              "\n",
              "    .dataframe tbody tr th {\n",
              "        vertical-align: top;\n",
              "    }\n",
              "\n",
              "    .dataframe thead th {\n",
              "        text-align: right;\n",
              "    }\n",
              "</style>\n",
              "<table border=\"1\" class=\"dataframe\">\n",
              "  <thead>\n",
              "    <tr style=\"text-align: right;\">\n",
              "      <th></th>\n",
              "      <th>id</th>\n",
              "      <th>price</th>\n",
              "      <th>bedrooms</th>\n",
              "      <th>bathrooms</th>\n",
              "      <th>sqft_living</th>\n",
              "      <th>sqft_lot</th>\n",
              "      <th>floors</th>\n",
              "      <th>waterfront</th>\n",
              "      <th>view</th>\n",
              "      <th>condition</th>\n",
              "      <th>grade</th>\n",
              "      <th>sqft_above</th>\n",
              "      <th>sqft_basement</th>\n",
              "      <th>yr_built</th>\n",
              "      <th>yr_renovated</th>\n",
              "      <th>zipcode</th>\n",
              "      <th>lat</th>\n",
              "      <th>long</th>\n",
              "      <th>sqft_living15</th>\n",
              "      <th>sqft_lot15</th>\n",
              "    </tr>\n",
              "  </thead>\n",
              "  <tbody>\n",
              "    <tr>\n",
              "      <th>0</th>\n",
              "      <td>7129300520</td>\n",
              "      <td>221900.0</td>\n",
              "      <td>3</td>\n",
              "      <td>1.00</td>\n",
              "      <td>1180</td>\n",
              "      <td>5650</td>\n",
              "      <td>1.0</td>\n",
              "      <td>0</td>\n",
              "      <td>0</td>\n",
              "      <td>3</td>\n",
              "      <td>7</td>\n",
              "      <td>1180</td>\n",
              "      <td>0</td>\n",
              "      <td>1955</td>\n",
              "      <td>0</td>\n",
              "      <td>98178</td>\n",
              "      <td>47.5112</td>\n",
              "      <td>-122.257</td>\n",
              "      <td>1340</td>\n",
              "      <td>5650</td>\n",
              "    </tr>\n",
              "    <tr>\n",
              "      <th>1</th>\n",
              "      <td>6414100192</td>\n",
              "      <td>538000.0</td>\n",
              "      <td>3</td>\n",
              "      <td>2.25</td>\n",
              "      <td>2570</td>\n",
              "      <td>7242</td>\n",
              "      <td>2.0</td>\n",
              "      <td>0</td>\n",
              "      <td>0</td>\n",
              "      <td>3</td>\n",
              "      <td>7</td>\n",
              "      <td>2170</td>\n",
              "      <td>400</td>\n",
              "      <td>1951</td>\n",
              "      <td>1991</td>\n",
              "      <td>98125</td>\n",
              "      <td>47.7210</td>\n",
              "      <td>-122.319</td>\n",
              "      <td>1690</td>\n",
              "      <td>7639</td>\n",
              "    </tr>\n",
              "    <tr>\n",
              "      <th>2</th>\n",
              "      <td>5631500400</td>\n",
              "      <td>180000.0</td>\n",
              "      <td>2</td>\n",
              "      <td>1.00</td>\n",
              "      <td>770</td>\n",
              "      <td>10000</td>\n",
              "      <td>1.0</td>\n",
              "      <td>0</td>\n",
              "      <td>0</td>\n",
              "      <td>3</td>\n",
              "      <td>6</td>\n",
              "      <td>770</td>\n",
              "      <td>0</td>\n",
              "      <td>1933</td>\n",
              "      <td>0</td>\n",
              "      <td>98028</td>\n",
              "      <td>47.7379</td>\n",
              "      <td>-122.233</td>\n",
              "      <td>2720</td>\n",
              "      <td>8062</td>\n",
              "    </tr>\n",
              "    <tr>\n",
              "      <th>3</th>\n",
              "      <td>2487200875</td>\n",
              "      <td>604000.0</td>\n",
              "      <td>4</td>\n",
              "      <td>3.00</td>\n",
              "      <td>1960</td>\n",
              "      <td>5000</td>\n",
              "      <td>1.0</td>\n",
              "      <td>0</td>\n",
              "      <td>0</td>\n",
              "      <td>5</td>\n",
              "      <td>7</td>\n",
              "      <td>1050</td>\n",
              "      <td>910</td>\n",
              "      <td>1965</td>\n",
              "      <td>0</td>\n",
              "      <td>98136</td>\n",
              "      <td>47.5208</td>\n",
              "      <td>-122.393</td>\n",
              "      <td>1360</td>\n",
              "      <td>5000</td>\n",
              "    </tr>\n",
              "    <tr>\n",
              "      <th>4</th>\n",
              "      <td>1954400510</td>\n",
              "      <td>510000.0</td>\n",
              "      <td>3</td>\n",
              "      <td>2.00</td>\n",
              "      <td>1680</td>\n",
              "      <td>8080</td>\n",
              "      <td>1.0</td>\n",
              "      <td>0</td>\n",
              "      <td>0</td>\n",
              "      <td>3</td>\n",
              "      <td>8</td>\n",
              "      <td>1680</td>\n",
              "      <td>0</td>\n",
              "      <td>1987</td>\n",
              "      <td>0</td>\n",
              "      <td>98074</td>\n",
              "      <td>47.6168</td>\n",
              "      <td>-122.045</td>\n",
              "      <td>1800</td>\n",
              "      <td>7503</td>\n",
              "    </tr>\n",
              "  </tbody>\n",
              "</table>\n",
              "</div>"
            ],
            "text/plain": [
              "           id     price  bedrooms  ...     long  sqft_living15  sqft_lot15\n",
              "0  7129300520  221900.0         3  ... -122.257           1340        5650\n",
              "1  6414100192  538000.0         3  ... -122.319           1690        7639\n",
              "2  5631500400  180000.0         2  ... -122.233           2720        8062\n",
              "3  2487200875  604000.0         4  ... -122.393           1360        5000\n",
              "4  1954400510  510000.0         3  ... -122.045           1800        7503\n",
              "\n",
              "[5 rows x 20 columns]"
            ]
          },
          "metadata": {
            "tags": []
          },
          "execution_count": 2
        }
      ]
    },
    {
      "cell_type": "code",
      "metadata": {
        "colab": {
          "base_uri": "https://localhost:8080/",
          "height": 439
        },
        "id": "oqM-c43ibLkF",
        "outputId": "84f65874-18be-47c5-a198-0c0767d2ad03"
      },
      "source": [
        "# Previewing the last 10 rows\n",
        "#\n",
        "df.tail()\n",
        "df"
      ],
      "execution_count": null,
      "outputs": [
        {
          "output_type": "execute_result",
          "data": {
            "text/html": [
              "<div>\n",
              "<style scoped>\n",
              "    .dataframe tbody tr th:only-of-type {\n",
              "        vertical-align: middle;\n",
              "    }\n",
              "\n",
              "    .dataframe tbody tr th {\n",
              "        vertical-align: top;\n",
              "    }\n",
              "\n",
              "    .dataframe thead th {\n",
              "        text-align: right;\n",
              "    }\n",
              "</style>\n",
              "<table border=\"1\" class=\"dataframe\">\n",
              "  <thead>\n",
              "    <tr style=\"text-align: right;\">\n",
              "      <th></th>\n",
              "      <th>id</th>\n",
              "      <th>price</th>\n",
              "      <th>bedrooms</th>\n",
              "      <th>bathrooms</th>\n",
              "      <th>sqft_living</th>\n",
              "      <th>sqft_lot</th>\n",
              "      <th>floors</th>\n",
              "      <th>waterfront</th>\n",
              "      <th>view</th>\n",
              "      <th>condition</th>\n",
              "      <th>grade</th>\n",
              "      <th>sqft_above</th>\n",
              "      <th>sqft_basement</th>\n",
              "      <th>yr_built</th>\n",
              "      <th>yr_renovated</th>\n",
              "      <th>zipcode</th>\n",
              "      <th>lat</th>\n",
              "      <th>long</th>\n",
              "      <th>sqft_living15</th>\n",
              "      <th>sqft_lot15</th>\n",
              "    </tr>\n",
              "  </thead>\n",
              "  <tbody>\n",
              "    <tr>\n",
              "      <th>0</th>\n",
              "      <td>7129300520</td>\n",
              "      <td>221900.0</td>\n",
              "      <td>3</td>\n",
              "      <td>1.00</td>\n",
              "      <td>1180</td>\n",
              "      <td>5650</td>\n",
              "      <td>1.0</td>\n",
              "      <td>0</td>\n",
              "      <td>0</td>\n",
              "      <td>3</td>\n",
              "      <td>7</td>\n",
              "      <td>1180</td>\n",
              "      <td>0</td>\n",
              "      <td>1955</td>\n",
              "      <td>0</td>\n",
              "      <td>98178</td>\n",
              "      <td>47.5112</td>\n",
              "      <td>-122.257</td>\n",
              "      <td>1340</td>\n",
              "      <td>5650</td>\n",
              "    </tr>\n",
              "    <tr>\n",
              "      <th>1</th>\n",
              "      <td>6414100192</td>\n",
              "      <td>538000.0</td>\n",
              "      <td>3</td>\n",
              "      <td>2.25</td>\n",
              "      <td>2570</td>\n",
              "      <td>7242</td>\n",
              "      <td>2.0</td>\n",
              "      <td>0</td>\n",
              "      <td>0</td>\n",
              "      <td>3</td>\n",
              "      <td>7</td>\n",
              "      <td>2170</td>\n",
              "      <td>400</td>\n",
              "      <td>1951</td>\n",
              "      <td>1991</td>\n",
              "      <td>98125</td>\n",
              "      <td>47.7210</td>\n",
              "      <td>-122.319</td>\n",
              "      <td>1690</td>\n",
              "      <td>7639</td>\n",
              "    </tr>\n",
              "    <tr>\n",
              "      <th>2</th>\n",
              "      <td>5631500400</td>\n",
              "      <td>180000.0</td>\n",
              "      <td>2</td>\n",
              "      <td>1.00</td>\n",
              "      <td>770</td>\n",
              "      <td>10000</td>\n",
              "      <td>1.0</td>\n",
              "      <td>0</td>\n",
              "      <td>0</td>\n",
              "      <td>3</td>\n",
              "      <td>6</td>\n",
              "      <td>770</td>\n",
              "      <td>0</td>\n",
              "      <td>1933</td>\n",
              "      <td>0</td>\n",
              "      <td>98028</td>\n",
              "      <td>47.7379</td>\n",
              "      <td>-122.233</td>\n",
              "      <td>2720</td>\n",
              "      <td>8062</td>\n",
              "    </tr>\n",
              "    <tr>\n",
              "      <th>3</th>\n",
              "      <td>2487200875</td>\n",
              "      <td>604000.0</td>\n",
              "      <td>4</td>\n",
              "      <td>3.00</td>\n",
              "      <td>1960</td>\n",
              "      <td>5000</td>\n",
              "      <td>1.0</td>\n",
              "      <td>0</td>\n",
              "      <td>0</td>\n",
              "      <td>5</td>\n",
              "      <td>7</td>\n",
              "      <td>1050</td>\n",
              "      <td>910</td>\n",
              "      <td>1965</td>\n",
              "      <td>0</td>\n",
              "      <td>98136</td>\n",
              "      <td>47.5208</td>\n",
              "      <td>-122.393</td>\n",
              "      <td>1360</td>\n",
              "      <td>5000</td>\n",
              "    </tr>\n",
              "    <tr>\n",
              "      <th>4</th>\n",
              "      <td>1954400510</td>\n",
              "      <td>510000.0</td>\n",
              "      <td>3</td>\n",
              "      <td>2.00</td>\n",
              "      <td>1680</td>\n",
              "      <td>8080</td>\n",
              "      <td>1.0</td>\n",
              "      <td>0</td>\n",
              "      <td>0</td>\n",
              "      <td>3</td>\n",
              "      <td>8</td>\n",
              "      <td>1680</td>\n",
              "      <td>0</td>\n",
              "      <td>1987</td>\n",
              "      <td>0</td>\n",
              "      <td>98074</td>\n",
              "      <td>47.6168</td>\n",
              "      <td>-122.045</td>\n",
              "      <td>1800</td>\n",
              "      <td>7503</td>\n",
              "    </tr>\n",
              "    <tr>\n",
              "      <th>...</th>\n",
              "      <td>...</td>\n",
              "      <td>...</td>\n",
              "      <td>...</td>\n",
              "      <td>...</td>\n",
              "      <td>...</td>\n",
              "      <td>...</td>\n",
              "      <td>...</td>\n",
              "      <td>...</td>\n",
              "      <td>...</td>\n",
              "      <td>...</td>\n",
              "      <td>...</td>\n",
              "      <td>...</td>\n",
              "      <td>...</td>\n",
              "      <td>...</td>\n",
              "      <td>...</td>\n",
              "      <td>...</td>\n",
              "      <td>...</td>\n",
              "      <td>...</td>\n",
              "      <td>...</td>\n",
              "      <td>...</td>\n",
              "    </tr>\n",
              "    <tr>\n",
              "      <th>21608</th>\n",
              "      <td>263000018</td>\n",
              "      <td>360000.0</td>\n",
              "      <td>3</td>\n",
              "      <td>2.50</td>\n",
              "      <td>1530</td>\n",
              "      <td>1131</td>\n",
              "      <td>3.0</td>\n",
              "      <td>0</td>\n",
              "      <td>0</td>\n",
              "      <td>3</td>\n",
              "      <td>8</td>\n",
              "      <td>1530</td>\n",
              "      <td>0</td>\n",
              "      <td>2009</td>\n",
              "      <td>0</td>\n",
              "      <td>98103</td>\n",
              "      <td>47.6993</td>\n",
              "      <td>-122.346</td>\n",
              "      <td>1530</td>\n",
              "      <td>1509</td>\n",
              "    </tr>\n",
              "    <tr>\n",
              "      <th>21609</th>\n",
              "      <td>6600060120</td>\n",
              "      <td>400000.0</td>\n",
              "      <td>4</td>\n",
              "      <td>2.50</td>\n",
              "      <td>2310</td>\n",
              "      <td>5813</td>\n",
              "      <td>2.0</td>\n",
              "      <td>0</td>\n",
              "      <td>0</td>\n",
              "      <td>3</td>\n",
              "      <td>8</td>\n",
              "      <td>2310</td>\n",
              "      <td>0</td>\n",
              "      <td>2014</td>\n",
              "      <td>0</td>\n",
              "      <td>98146</td>\n",
              "      <td>47.5107</td>\n",
              "      <td>-122.362</td>\n",
              "      <td>1830</td>\n",
              "      <td>7200</td>\n",
              "    </tr>\n",
              "    <tr>\n",
              "      <th>21610</th>\n",
              "      <td>1523300141</td>\n",
              "      <td>402101.0</td>\n",
              "      <td>2</td>\n",
              "      <td>0.75</td>\n",
              "      <td>1020</td>\n",
              "      <td>1350</td>\n",
              "      <td>2.0</td>\n",
              "      <td>0</td>\n",
              "      <td>0</td>\n",
              "      <td>3</td>\n",
              "      <td>7</td>\n",
              "      <td>1020</td>\n",
              "      <td>0</td>\n",
              "      <td>2009</td>\n",
              "      <td>0</td>\n",
              "      <td>98144</td>\n",
              "      <td>47.5944</td>\n",
              "      <td>-122.299</td>\n",
              "      <td>1020</td>\n",
              "      <td>2007</td>\n",
              "    </tr>\n",
              "    <tr>\n",
              "      <th>21611</th>\n",
              "      <td>291310100</td>\n",
              "      <td>400000.0</td>\n",
              "      <td>3</td>\n",
              "      <td>2.50</td>\n",
              "      <td>1600</td>\n",
              "      <td>2388</td>\n",
              "      <td>2.0</td>\n",
              "      <td>0</td>\n",
              "      <td>0</td>\n",
              "      <td>3</td>\n",
              "      <td>8</td>\n",
              "      <td>1600</td>\n",
              "      <td>0</td>\n",
              "      <td>2004</td>\n",
              "      <td>0</td>\n",
              "      <td>98027</td>\n",
              "      <td>47.5345</td>\n",
              "      <td>-122.069</td>\n",
              "      <td>1410</td>\n",
              "      <td>1287</td>\n",
              "    </tr>\n",
              "    <tr>\n",
              "      <th>21612</th>\n",
              "      <td>1523300157</td>\n",
              "      <td>325000.0</td>\n",
              "      <td>2</td>\n",
              "      <td>0.75</td>\n",
              "      <td>1020</td>\n",
              "      <td>1076</td>\n",
              "      <td>2.0</td>\n",
              "      <td>0</td>\n",
              "      <td>0</td>\n",
              "      <td>3</td>\n",
              "      <td>7</td>\n",
              "      <td>1020</td>\n",
              "      <td>0</td>\n",
              "      <td>2008</td>\n",
              "      <td>0</td>\n",
              "      <td>98144</td>\n",
              "      <td>47.5941</td>\n",
              "      <td>-122.299</td>\n",
              "      <td>1020</td>\n",
              "      <td>1357</td>\n",
              "    </tr>\n",
              "  </tbody>\n",
              "</table>\n",
              "<p>21613 rows × 20 columns</p>\n",
              "</div>"
            ],
            "text/plain": [
              "               id     price  bedrooms  ...     long  sqft_living15  sqft_lot15\n",
              "0      7129300520  221900.0         3  ... -122.257           1340        5650\n",
              "1      6414100192  538000.0         3  ... -122.319           1690        7639\n",
              "2      5631500400  180000.0         2  ... -122.233           2720        8062\n",
              "3      2487200875  604000.0         4  ... -122.393           1360        5000\n",
              "4      1954400510  510000.0         3  ... -122.045           1800        7503\n",
              "...           ...       ...       ...  ...      ...            ...         ...\n",
              "21608   263000018  360000.0         3  ... -122.346           1530        1509\n",
              "21609  6600060120  400000.0         4  ... -122.362           1830        7200\n",
              "21610  1523300141  402101.0         2  ... -122.299           1020        2007\n",
              "21611   291310100  400000.0         3  ... -122.069           1410        1287\n",
              "21612  1523300157  325000.0         2  ... -122.299           1020        1357\n",
              "\n",
              "[21613 rows x 20 columns]"
            ]
          },
          "metadata": {
            "tags": []
          },
          "execution_count": 3
        }
      ]
    },
    {
      "cell_type": "code",
      "metadata": {
        "colab": {
          "base_uri": "https://localhost:8080/"
        },
        "id": "YjSVNwgptHxY",
        "outputId": "6bbfa946-3006-420e-ac3f-d4a0e6cc35a1"
      },
      "source": [
        "# Checking the shape of our data\n",
        "#\n",
        "df.shape\n"
      ],
      "execution_count": null,
      "outputs": [
        {
          "output_type": "execute_result",
          "data": {
            "text/plain": [
              "(21613, 20)"
            ]
          },
          "metadata": {
            "tags": []
          },
          "execution_count": 4
        }
      ]
    },
    {
      "cell_type": "markdown",
      "metadata": {
        "id": "PtobLIMVbI3J"
      },
      "source": [
        "> Our dataset has 21,613 entries and 20 columns"
      ]
    },
    {
      "cell_type": "code",
      "metadata": {
        "colab": {
          "base_uri": "https://localhost:8080/"
        },
        "id": "n8-dW4sQWzbc",
        "outputId": "2a038d1f-89c1-4ee7-d5f0-6e25bcdb6161"
      },
      "source": [
        "# Checking whether each column has an appropriate datatype\n",
        "#\n",
        "df.info()"
      ],
      "execution_count": null,
      "outputs": [
        {
          "output_type": "stream",
          "text": [
            "<class 'pandas.core.frame.DataFrame'>\n",
            "RangeIndex: 21613 entries, 0 to 21612\n",
            "Data columns (total 20 columns):\n",
            " #   Column         Non-Null Count  Dtype  \n",
            "---  ------         --------------  -----  \n",
            " 0   id             21613 non-null  int64  \n",
            " 1   price          21613 non-null  float64\n",
            " 2   bedrooms       21613 non-null  int64  \n",
            " 3   bathrooms      21613 non-null  float64\n",
            " 4   sqft_living    21613 non-null  int64  \n",
            " 5   sqft_lot       21613 non-null  int64  \n",
            " 6   floors         21613 non-null  float64\n",
            " 7   waterfront     21613 non-null  int64  \n",
            " 8   view           21613 non-null  int64  \n",
            " 9   condition      21613 non-null  int64  \n",
            " 10  grade          21613 non-null  int64  \n",
            " 11  sqft_above     21613 non-null  int64  \n",
            " 12  sqft_basement  21613 non-null  int64  \n",
            " 13  yr_built       21613 non-null  int64  \n",
            " 14  yr_renovated   21613 non-null  int64  \n",
            " 15  zipcode        21613 non-null  int64  \n",
            " 16  lat            21613 non-null  float64\n",
            " 17  long           21613 non-null  float64\n",
            " 18  sqft_living15  21613 non-null  int64  \n",
            " 19  sqft_lot15     21613 non-null  int64  \n",
            "dtypes: float64(5), int64(15)\n",
            "memory usage: 3.3 MB\n"
          ],
          "name": "stdout"
        }
      ]
    },
    {
      "cell_type": "markdown",
      "metadata": {
        "id": "z-2e5dx52j5V"
      },
      "source": [
        "> Our columns all have the correct datatypes"
      ]
    },
    {
      "cell_type": "markdown",
      "metadata": {
        "id": "FlBMxEDBUc9B"
      },
      "source": [
        "## 4. Tidying the Dataset"
      ]
    },
    {
      "cell_type": "code",
      "metadata": {
        "colab": {
          "base_uri": "https://localhost:8080/"
        },
        "id": "99hh50pI7NxW",
        "outputId": "21dd183d-1039-4970-c7c4-bce3dabbef9f"
      },
      "source": [
        "# Checking for duplicates\n",
        "#\n",
        "df.duplicated().sum()"
      ],
      "execution_count": null,
      "outputs": [
        {
          "output_type": "execute_result",
          "data": {
            "text/plain": [
              "3"
            ]
          },
          "metadata": {
            "tags": []
          },
          "execution_count": 6
        }
      ]
    },
    {
      "cell_type": "markdown",
      "metadata": {
        "id": "FlkM0KKZc7fa"
      },
      "source": [
        "> We have 3 duplicated values, which we shall proceed to drop"
      ]
    },
    {
      "cell_type": "code",
      "metadata": {
        "id": "BgKeOJg3coZC"
      },
      "source": [
        "# Drop our duplicates\n",
        "#\n",
        "df.drop_duplicates(inplace = True)"
      ],
      "execution_count": null,
      "outputs": []
    },
    {
      "cell_type": "code",
      "metadata": {
        "colab": {
          "base_uri": "https://localhost:8080/"
        },
        "id": "OQaoqg92dInv",
        "outputId": "c47dcd78-9d9f-4473-e78c-effcd361e54c"
      },
      "source": [
        "# Confirm that there are no duplicates\n",
        "#\n",
        "df.duplicated().sum()"
      ],
      "execution_count": null,
      "outputs": [
        {
          "output_type": "execute_result",
          "data": {
            "text/plain": [
              "0"
            ]
          },
          "metadata": {
            "tags": []
          },
          "execution_count": 8
        }
      ]
    },
    {
      "cell_type": "markdown",
      "metadata": {
        "id": "7R8tMnbgdSFi"
      },
      "source": [
        "> We have no more duplicates"
      ]
    },
    {
      "cell_type": "code",
      "metadata": {
        "colab": {
          "base_uri": "https://localhost:8080/"
        },
        "id": "aphLqImf8J0-",
        "outputId": "f5ccfa98-8915-4688-a332-c728421ead7f"
      },
      "source": [
        "# Checking for null values\n",
        "#\n",
        "df.isnull().sum()"
      ],
      "execution_count": null,
      "outputs": [
        {
          "output_type": "execute_result",
          "data": {
            "text/plain": [
              "id               0\n",
              "price            0\n",
              "bedrooms         0\n",
              "bathrooms        0\n",
              "sqft_living      0\n",
              "sqft_lot         0\n",
              "floors           0\n",
              "waterfront       0\n",
              "view             0\n",
              "condition        0\n",
              "grade            0\n",
              "sqft_above       0\n",
              "sqft_basement    0\n",
              "yr_built         0\n",
              "yr_renovated     0\n",
              "zipcode          0\n",
              "lat              0\n",
              "long             0\n",
              "sqft_living15    0\n",
              "sqft_lot15       0\n",
              "dtype: int64"
            ]
          },
          "metadata": {
            "tags": []
          },
          "execution_count": 9
        }
      ]
    },
    {
      "cell_type": "markdown",
      "metadata": {
        "id": "9KF3ChKodBuf"
      },
      "source": [
        "> We have no null values"
      ]
    },
    {
      "cell_type": "code",
      "metadata": {
        "colab": {
          "base_uri": "https://localhost:8080/",
          "height": 439
        },
        "id": "kYcLg6Lz__U6",
        "outputId": "ab5c2da5-fb30-4210-d67a-448722b6790e"
      },
      "source": [
        "# We shall now proceed to do data cleaning using the data cleaning principles.\n",
        "# Dropping irrelevant columns: we do not need the id column for our analysis. We also do not need the longitude and latitude as the zipcode already has location info. We shall drop them all\n",
        "#\n",
        "df.drop(['id','lat','long'], inplace = True, axis = 1)\n",
        "df"
      ],
      "execution_count": null,
      "outputs": [
        {
          "output_type": "execute_result",
          "data": {
            "text/html": [
              "<div>\n",
              "<style scoped>\n",
              "    .dataframe tbody tr th:only-of-type {\n",
              "        vertical-align: middle;\n",
              "    }\n",
              "\n",
              "    .dataframe tbody tr th {\n",
              "        vertical-align: top;\n",
              "    }\n",
              "\n",
              "    .dataframe thead th {\n",
              "        text-align: right;\n",
              "    }\n",
              "</style>\n",
              "<table border=\"1\" class=\"dataframe\">\n",
              "  <thead>\n",
              "    <tr style=\"text-align: right;\">\n",
              "      <th></th>\n",
              "      <th>price</th>\n",
              "      <th>bedrooms</th>\n",
              "      <th>bathrooms</th>\n",
              "      <th>sqft_living</th>\n",
              "      <th>sqft_lot</th>\n",
              "      <th>floors</th>\n",
              "      <th>waterfront</th>\n",
              "      <th>view</th>\n",
              "      <th>condition</th>\n",
              "      <th>grade</th>\n",
              "      <th>sqft_above</th>\n",
              "      <th>sqft_basement</th>\n",
              "      <th>yr_built</th>\n",
              "      <th>yr_renovated</th>\n",
              "      <th>zipcode</th>\n",
              "      <th>sqft_living15</th>\n",
              "      <th>sqft_lot15</th>\n",
              "    </tr>\n",
              "  </thead>\n",
              "  <tbody>\n",
              "    <tr>\n",
              "      <th>0</th>\n",
              "      <td>221900.0</td>\n",
              "      <td>3</td>\n",
              "      <td>1.00</td>\n",
              "      <td>1180</td>\n",
              "      <td>5650</td>\n",
              "      <td>1.0</td>\n",
              "      <td>0</td>\n",
              "      <td>0</td>\n",
              "      <td>3</td>\n",
              "      <td>7</td>\n",
              "      <td>1180</td>\n",
              "      <td>0</td>\n",
              "      <td>1955</td>\n",
              "      <td>0</td>\n",
              "      <td>98178</td>\n",
              "      <td>1340</td>\n",
              "      <td>5650</td>\n",
              "    </tr>\n",
              "    <tr>\n",
              "      <th>1</th>\n",
              "      <td>538000.0</td>\n",
              "      <td>3</td>\n",
              "      <td>2.25</td>\n",
              "      <td>2570</td>\n",
              "      <td>7242</td>\n",
              "      <td>2.0</td>\n",
              "      <td>0</td>\n",
              "      <td>0</td>\n",
              "      <td>3</td>\n",
              "      <td>7</td>\n",
              "      <td>2170</td>\n",
              "      <td>400</td>\n",
              "      <td>1951</td>\n",
              "      <td>1991</td>\n",
              "      <td>98125</td>\n",
              "      <td>1690</td>\n",
              "      <td>7639</td>\n",
              "    </tr>\n",
              "    <tr>\n",
              "      <th>2</th>\n",
              "      <td>180000.0</td>\n",
              "      <td>2</td>\n",
              "      <td>1.00</td>\n",
              "      <td>770</td>\n",
              "      <td>10000</td>\n",
              "      <td>1.0</td>\n",
              "      <td>0</td>\n",
              "      <td>0</td>\n",
              "      <td>3</td>\n",
              "      <td>6</td>\n",
              "      <td>770</td>\n",
              "      <td>0</td>\n",
              "      <td>1933</td>\n",
              "      <td>0</td>\n",
              "      <td>98028</td>\n",
              "      <td>2720</td>\n",
              "      <td>8062</td>\n",
              "    </tr>\n",
              "    <tr>\n",
              "      <th>3</th>\n",
              "      <td>604000.0</td>\n",
              "      <td>4</td>\n",
              "      <td>3.00</td>\n",
              "      <td>1960</td>\n",
              "      <td>5000</td>\n",
              "      <td>1.0</td>\n",
              "      <td>0</td>\n",
              "      <td>0</td>\n",
              "      <td>5</td>\n",
              "      <td>7</td>\n",
              "      <td>1050</td>\n",
              "      <td>910</td>\n",
              "      <td>1965</td>\n",
              "      <td>0</td>\n",
              "      <td>98136</td>\n",
              "      <td>1360</td>\n",
              "      <td>5000</td>\n",
              "    </tr>\n",
              "    <tr>\n",
              "      <th>4</th>\n",
              "      <td>510000.0</td>\n",
              "      <td>3</td>\n",
              "      <td>2.00</td>\n",
              "      <td>1680</td>\n",
              "      <td>8080</td>\n",
              "      <td>1.0</td>\n",
              "      <td>0</td>\n",
              "      <td>0</td>\n",
              "      <td>3</td>\n",
              "      <td>8</td>\n",
              "      <td>1680</td>\n",
              "      <td>0</td>\n",
              "      <td>1987</td>\n",
              "      <td>0</td>\n",
              "      <td>98074</td>\n",
              "      <td>1800</td>\n",
              "      <td>7503</td>\n",
              "    </tr>\n",
              "    <tr>\n",
              "      <th>...</th>\n",
              "      <td>...</td>\n",
              "      <td>...</td>\n",
              "      <td>...</td>\n",
              "      <td>...</td>\n",
              "      <td>...</td>\n",
              "      <td>...</td>\n",
              "      <td>...</td>\n",
              "      <td>...</td>\n",
              "      <td>...</td>\n",
              "      <td>...</td>\n",
              "      <td>...</td>\n",
              "      <td>...</td>\n",
              "      <td>...</td>\n",
              "      <td>...</td>\n",
              "      <td>...</td>\n",
              "      <td>...</td>\n",
              "      <td>...</td>\n",
              "    </tr>\n",
              "    <tr>\n",
              "      <th>21608</th>\n",
              "      <td>360000.0</td>\n",
              "      <td>3</td>\n",
              "      <td>2.50</td>\n",
              "      <td>1530</td>\n",
              "      <td>1131</td>\n",
              "      <td>3.0</td>\n",
              "      <td>0</td>\n",
              "      <td>0</td>\n",
              "      <td>3</td>\n",
              "      <td>8</td>\n",
              "      <td>1530</td>\n",
              "      <td>0</td>\n",
              "      <td>2009</td>\n",
              "      <td>0</td>\n",
              "      <td>98103</td>\n",
              "      <td>1530</td>\n",
              "      <td>1509</td>\n",
              "    </tr>\n",
              "    <tr>\n",
              "      <th>21609</th>\n",
              "      <td>400000.0</td>\n",
              "      <td>4</td>\n",
              "      <td>2.50</td>\n",
              "      <td>2310</td>\n",
              "      <td>5813</td>\n",
              "      <td>2.0</td>\n",
              "      <td>0</td>\n",
              "      <td>0</td>\n",
              "      <td>3</td>\n",
              "      <td>8</td>\n",
              "      <td>2310</td>\n",
              "      <td>0</td>\n",
              "      <td>2014</td>\n",
              "      <td>0</td>\n",
              "      <td>98146</td>\n",
              "      <td>1830</td>\n",
              "      <td>7200</td>\n",
              "    </tr>\n",
              "    <tr>\n",
              "      <th>21610</th>\n",
              "      <td>402101.0</td>\n",
              "      <td>2</td>\n",
              "      <td>0.75</td>\n",
              "      <td>1020</td>\n",
              "      <td>1350</td>\n",
              "      <td>2.0</td>\n",
              "      <td>0</td>\n",
              "      <td>0</td>\n",
              "      <td>3</td>\n",
              "      <td>7</td>\n",
              "      <td>1020</td>\n",
              "      <td>0</td>\n",
              "      <td>2009</td>\n",
              "      <td>0</td>\n",
              "      <td>98144</td>\n",
              "      <td>1020</td>\n",
              "      <td>2007</td>\n",
              "    </tr>\n",
              "    <tr>\n",
              "      <th>21611</th>\n",
              "      <td>400000.0</td>\n",
              "      <td>3</td>\n",
              "      <td>2.50</td>\n",
              "      <td>1600</td>\n",
              "      <td>2388</td>\n",
              "      <td>2.0</td>\n",
              "      <td>0</td>\n",
              "      <td>0</td>\n",
              "      <td>3</td>\n",
              "      <td>8</td>\n",
              "      <td>1600</td>\n",
              "      <td>0</td>\n",
              "      <td>2004</td>\n",
              "      <td>0</td>\n",
              "      <td>98027</td>\n",
              "      <td>1410</td>\n",
              "      <td>1287</td>\n",
              "    </tr>\n",
              "    <tr>\n",
              "      <th>21612</th>\n",
              "      <td>325000.0</td>\n",
              "      <td>2</td>\n",
              "      <td>0.75</td>\n",
              "      <td>1020</td>\n",
              "      <td>1076</td>\n",
              "      <td>2.0</td>\n",
              "      <td>0</td>\n",
              "      <td>0</td>\n",
              "      <td>3</td>\n",
              "      <td>7</td>\n",
              "      <td>1020</td>\n",
              "      <td>0</td>\n",
              "      <td>2008</td>\n",
              "      <td>0</td>\n",
              "      <td>98144</td>\n",
              "      <td>1020</td>\n",
              "      <td>1357</td>\n",
              "    </tr>\n",
              "  </tbody>\n",
              "</table>\n",
              "<p>21610 rows × 17 columns</p>\n",
              "</div>"
            ],
            "text/plain": [
              "          price  bedrooms  bathrooms  ...  zipcode  sqft_living15  sqft_lot15\n",
              "0      221900.0         3       1.00  ...    98178           1340        5650\n",
              "1      538000.0         3       2.25  ...    98125           1690        7639\n",
              "2      180000.0         2       1.00  ...    98028           2720        8062\n",
              "3      604000.0         4       3.00  ...    98136           1360        5000\n",
              "4      510000.0         3       2.00  ...    98074           1800        7503\n",
              "...         ...       ...        ...  ...      ...            ...         ...\n",
              "21608  360000.0         3       2.50  ...    98103           1530        1509\n",
              "21609  400000.0         4       2.50  ...    98146           1830        7200\n",
              "21610  402101.0         2       0.75  ...    98144           1020        2007\n",
              "21611  400000.0         3       2.50  ...    98027           1410        1287\n",
              "21612  325000.0         2       0.75  ...    98144           1020        1357\n",
              "\n",
              "[21610 rows x 17 columns]"
            ]
          },
          "metadata": {
            "tags": []
          },
          "execution_count": 10
        }
      ]
    },
    {
      "cell_type": "code",
      "metadata": {
        "colab": {
          "base_uri": "https://localhost:8080/",
          "height": 1000
        },
        "id": "5o_bQcT5W3Wz",
        "outputId": "b66ba9dc-add9-42e2-a922-fbe3e065d608"
      },
      "source": [
        "# Checking for Outliers & Anomalies\n",
        "\n",
        "#\n",
        "col_names = ['price','sqft_living','sqft_lot','floors','sqft_above','sqft_basement','sqft_living15','sqft_lot15']\n",
        "\n",
        "fig, ax = plt.subplots(len(col_names), figsize = (15,50))\n",
        "\n",
        "for i, col_val in enumerate(col_names):\n",
        "\n",
        "  sns.boxplot(x = df[col_val], ax=ax[i])\n",
        "  ax[i].set_title('A boxplot on the {} column'.format(col_val), fontsize=14)\n",
        "  ax[i].set_xlabel(col_val, fontsize=12)\n",
        "  "
      ],
      "execution_count": null,
      "outputs": [
        {
          "output_type": "display_data",
          "data": {
            "image/png": "[encoded data removed]",
            "text/plain": [
              "<Figure size 1080x3600 with 8 Axes>"
            ]
          },
          "metadata": {
            "tags": [],
            "needs_background": "light"
          }
        }
      ]
    },
    {
      "cell_type": "markdown",
      "metadata": {
        "id": "0f1xuh52g-jN"
      },
      "source": [
        "> We have alot of outliers on our data. We wont drop the outliers for now as that may heavily skew our data wrongly"
      ]
    },
    {
      "cell_type": "markdown",
      "metadata": {
        "id": "rF2ABPsHUtbZ"
      },
      "source": [
        "## 5. Exploratory Data Analysis"
      ]
    },
    {
      "cell_type": "markdown",
      "metadata": {
        "id": "D8B80V2uISVI"
      },
      "source": [
        "### a) Univariate Analysis"
      ]
    },
    {
      "cell_type": "markdown",
      "metadata": {
        "id": "jLv-b8R7NolF"
      },
      "source": [
        "#### Summary Statistics"
      ]
    },
    {
      "cell_type": "code",
      "metadata": {
        "colab": {
          "base_uri": "https://localhost:8080/",
          "height": 317
        },
        "id": "ogQxhhMzNoRq",
        "outputId": "83495db6-f899-48f7-b1bf-b1aba744b3a2"
      },
      "source": [
        "# Getting summary statistics for our numerical columns\n",
        "df.describe()"
      ],
      "execution_count": null,
      "outputs": [
        {
          "output_type": "execute_result",
          "data": {
            "text/html": [
              "<div>\n",
              "<style scoped>\n",
              "    .dataframe tbody tr th:only-of-type {\n",
              "        vertical-align: middle;\n",
              "    }\n",
              "\n",
              "    .dataframe tbody tr th {\n",
              "        vertical-align: top;\n",
              "    }\n",
              "\n",
              "    .dataframe thead th {\n",
              "        text-align: right;\n",
              "    }\n",
              "</style>\n",
              "<table border=\"1\" class=\"dataframe\">\n",
              "  <thead>\n",
              "    <tr style=\"text-align: right;\">\n",
              "      <th></th>\n",
              "      <th>price</th>\n",
              "      <th>bedrooms</th>\n",
              "      <th>bathrooms</th>\n",
              "      <th>sqft_living</th>\n",
              "      <th>sqft_lot</th>\n",
              "      <th>floors</th>\n",
              "      <th>waterfront</th>\n",
              "      <th>view</th>\n",
              "      <th>condition</th>\n",
              "      <th>grade</th>\n",
              "      <th>sqft_above</th>\n",
              "      <th>sqft_basement</th>\n",
              "      <th>yr_built</th>\n",
              "      <th>yr_renovated</th>\n",
              "      <th>zipcode</th>\n",
              "      <th>sqft_living15</th>\n",
              "      <th>sqft_lot15</th>\n",
              "    </tr>\n",
              "  </thead>\n",
              "  <tbody>\n",
              "    <tr>\n",
              "      <th>count</th>\n",
              "      <td>2.161000e+04</td>\n",
              "      <td>21610.000000</td>\n",
              "      <td>21610.000000</td>\n",
              "      <td>21610.000000</td>\n",
              "      <td>2.161000e+04</td>\n",
              "      <td>21610.000000</td>\n",
              "      <td>21610.000000</td>\n",
              "      <td>21610.000000</td>\n",
              "      <td>21610.000000</td>\n",
              "      <td>21610.000000</td>\n",
              "      <td>21610.000000</td>\n",
              "      <td>21610.000000</td>\n",
              "      <td>21610.000000</td>\n",
              "      <td>21610.000000</td>\n",
              "      <td>21610.000000</td>\n",
              "      <td>21610.000000</td>\n",
              "      <td>21610.000000</td>\n",
              "    </tr>\n",
              "    <tr>\n",
              "      <th>mean</th>\n",
              "      <td>5.401789e+05</td>\n",
              "      <td>3.370847</td>\n",
              "      <td>2.114739</td>\n",
              "      <td>2079.881212</td>\n",
              "      <td>1.510829e+04</td>\n",
              "      <td>1.494239</td>\n",
              "      <td>0.007543</td>\n",
              "      <td>0.234197</td>\n",
              "      <td>3.409440</td>\n",
              "      <td>7.656779</td>\n",
              "      <td>1788.347894</td>\n",
              "      <td>291.533318</td>\n",
              "      <td>1971.003609</td>\n",
              "      <td>84.322351</td>\n",
              "      <td>98077.945673</td>\n",
              "      <td>1986.518695</td>\n",
              "      <td>12769.031976</td>\n",
              "    </tr>\n",
              "    <tr>\n",
              "      <th>std</th>\n",
              "      <td>3.673876e+05</td>\n",
              "      <td>0.930110</td>\n",
              "      <td>0.770204</td>\n",
              "      <td>918.500299</td>\n",
              "      <td>4.142323e+04</td>\n",
              "      <td>0.539994</td>\n",
              "      <td>0.086523</td>\n",
              "      <td>0.766136</td>\n",
              "      <td>0.650764</td>\n",
              "      <td>1.175500</td>\n",
              "      <td>828.138723</td>\n",
              "      <td>442.596699</td>\n",
              "      <td>29.372639</td>\n",
              "      <td>401.499264</td>\n",
              "      <td>53.505373</td>\n",
              "      <td>685.425781</td>\n",
              "      <td>27305.972464</td>\n",
              "    </tr>\n",
              "    <tr>\n",
              "      <th>min</th>\n",
              "      <td>7.500000e+04</td>\n",
              "      <td>0.000000</td>\n",
              "      <td>0.000000</td>\n",
              "      <td>290.000000</td>\n",
              "      <td>5.200000e+02</td>\n",
              "      <td>1.000000</td>\n",
              "      <td>0.000000</td>\n",
              "      <td>0.000000</td>\n",
              "      <td>1.000000</td>\n",
              "      <td>1.000000</td>\n",
              "      <td>290.000000</td>\n",
              "      <td>0.000000</td>\n",
              "      <td>1900.000000</td>\n",
              "      <td>0.000000</td>\n",
              "      <td>98001.000000</td>\n",
              "      <td>399.000000</td>\n",
              "      <td>651.000000</td>\n",
              "    </tr>\n",
              "    <tr>\n",
              "      <th>25%</th>\n",
              "      <td>3.216125e+05</td>\n",
              "      <td>3.000000</td>\n",
              "      <td>1.750000</td>\n",
              "      <td>1425.500000</td>\n",
              "      <td>5.040000e+03</td>\n",
              "      <td>1.000000</td>\n",
              "      <td>0.000000</td>\n",
              "      <td>0.000000</td>\n",
              "      <td>3.000000</td>\n",
              "      <td>7.000000</td>\n",
              "      <td>1190.000000</td>\n",
              "      <td>0.000000</td>\n",
              "      <td>1951.000000</td>\n",
              "      <td>0.000000</td>\n",
              "      <td>98033.000000</td>\n",
              "      <td>1490.000000</td>\n",
              "      <td>5100.000000</td>\n",
              "    </tr>\n",
              "    <tr>\n",
              "      <th>50%</th>\n",
              "      <td>4.500000e+05</td>\n",
              "      <td>3.000000</td>\n",
              "      <td>2.250000</td>\n",
              "      <td>1910.000000</td>\n",
              "      <td>7.619000e+03</td>\n",
              "      <td>1.500000</td>\n",
              "      <td>0.000000</td>\n",
              "      <td>0.000000</td>\n",
              "      <td>3.000000</td>\n",
              "      <td>7.000000</td>\n",
              "      <td>1560.000000</td>\n",
              "      <td>0.000000</td>\n",
              "      <td>1975.000000</td>\n",
              "      <td>0.000000</td>\n",
              "      <td>98065.000000</td>\n",
              "      <td>1840.000000</td>\n",
              "      <td>7620.000000</td>\n",
              "    </tr>\n",
              "    <tr>\n",
              "      <th>75%</th>\n",
              "      <td>6.450000e+05</td>\n",
              "      <td>4.000000</td>\n",
              "      <td>2.500000</td>\n",
              "      <td>2550.000000</td>\n",
              "      <td>1.068875e+04</td>\n",
              "      <td>2.000000</td>\n",
              "      <td>0.000000</td>\n",
              "      <td>0.000000</td>\n",
              "      <td>4.000000</td>\n",
              "      <td>8.000000</td>\n",
              "      <td>2210.000000</td>\n",
              "      <td>560.000000</td>\n",
              "      <td>1997.000000</td>\n",
              "      <td>0.000000</td>\n",
              "      <td>98118.000000</td>\n",
              "      <td>2360.000000</td>\n",
              "      <td>10083.000000</td>\n",
              "    </tr>\n",
              "    <tr>\n",
              "      <th>max</th>\n",
              "      <td>7.700000e+06</td>\n",
              "      <td>33.000000</td>\n",
              "      <td>8.000000</td>\n",
              "      <td>13540.000000</td>\n",
              "      <td>1.651359e+06</td>\n",
              "      <td>3.500000</td>\n",
              "      <td>1.000000</td>\n",
              "      <td>4.000000</td>\n",
              "      <td>5.000000</td>\n",
              "      <td>13.000000</td>\n",
              "      <td>9410.000000</td>\n",
              "      <td>4820.000000</td>\n",
              "      <td>2015.000000</td>\n",
              "      <td>2015.000000</td>\n",
              "      <td>98199.000000</td>\n",
              "      <td>6210.000000</td>\n",
              "      <td>871200.000000</td>\n",
              "    </tr>\n",
              "  </tbody>\n",
              "</table>\n",
              "</div>"
            ],
            "text/plain": [
              "              price      bedrooms  ...  sqft_living15     sqft_lot15\n",
              "count  2.161000e+04  21610.000000  ...   21610.000000   21610.000000\n",
              "mean   5.401789e+05      3.370847  ...    1986.518695   12769.031976\n",
              "std    3.673876e+05      0.930110  ...     685.425781   27305.972464\n",
              "min    7.500000e+04      0.000000  ...     399.000000     651.000000\n",
              "25%    3.216125e+05      3.000000  ...    1490.000000    5100.000000\n",
              "50%    4.500000e+05      3.000000  ...    1840.000000    7620.000000\n",
              "75%    6.450000e+05      4.000000  ...    2360.000000   10083.000000\n",
              "max    7.700000e+06     33.000000  ...    6210.000000  871200.000000\n",
              "\n",
              "[8 rows x 17 columns]"
            ]
          },
          "metadata": {
            "tags": []
          },
          "execution_count": 12
        }
      ]
    },
    {
      "cell_type": "code",
      "metadata": {
        "colab": {
          "base_uri": "https://localhost:8080/"
        },
        "id": "DLB_14xGJ0bo",
        "outputId": "0c5256a9-cddd-4fb2-8c6b-08795daf00a6"
      },
      "source": [
        "# Measures of Central Tendency\n",
        "#\n",
        "print('The means of our numerical values are \\n', df.mean())\n",
        "print('\\n The medians of our numerical values are\\n', df.median())\n",
        "print('\\n The modes of our numerical values are \\n', df.mode())\n",
        "\n",
        "# Measures of Dispersion\n",
        "print('\\nThe standard deviations of our numerical values are\\n', df.std())\n",
        "print('\\n The variances of our numerical values are\\n',df.var())\n",
        "print('\\n The ranges of our numerical values are\\n',df.max()-df.min())\n",
        "print('\\n The kurtosis of our numerical values are\\n',df.kurt())\n",
        "print('\\n The skewness of our numerical values are\\n',df.skew())"
      ],
      "execution_count": null,
      "outputs": [
        {
          "output_type": "stream",
          "text": [
            "The means of our numerical values are \n",
            " price            540178.944840\n",
            "bedrooms              3.370847\n",
            "bathrooms             2.114739\n",
            "sqft_living        2079.881212\n",
            "sqft_lot          15108.289820\n",
            "floors                1.494239\n",
            "waterfront            0.007543\n",
            "view                  0.234197\n",
            "condition             3.409440\n",
            "grade                 7.656779\n",
            "sqft_above         1788.347894\n",
            "sqft_basement       291.533318\n",
            "yr_built           1971.003609\n",
            "yr_renovated         84.322351\n",
            "zipcode           98077.945673\n",
            "sqft_living15      1986.518695\n",
            "sqft_lot15        12769.031976\n",
            "dtype: float64\n",
            "\n",
            " The medians of our numerical values are\n",
            " price            450000.00\n",
            "bedrooms              3.00\n",
            "bathrooms             2.25\n",
            "sqft_living        1910.00\n",
            "sqft_lot           7619.00\n",
            "floors                1.50\n",
            "waterfront            0.00\n",
            "view                  0.00\n",
            "condition             3.00\n",
            "grade                 7.00\n",
            "sqft_above         1560.00\n",
            "sqft_basement         0.00\n",
            "yr_built           1975.00\n",
            "yr_renovated          0.00\n",
            "zipcode           98065.00\n",
            "sqft_living15      1840.00\n",
            "sqft_lot15         7620.00\n",
            "dtype: float64\n",
            "\n",
            " The modes of our numerical values are \n",
            "       price  bedrooms  bathrooms  ...  zipcode  sqft_living15  sqft_lot15\n",
            "0  350000.0       3.0        2.5  ...  98103.0         1540.0      5000.0\n",
            "1  450000.0       NaN        NaN  ...      NaN            NaN         NaN\n",
            "\n",
            "[2 rows x 17 columns]\n",
            "\n",
            "The standard deviations of our numerical values are\n",
            " price            367387.585054\n",
            "bedrooms              0.930110\n",
            "bathrooms             0.770204\n",
            "sqft_living         918.500299\n",
            "sqft_lot          41423.226737\n",
            "floors                0.539994\n",
            "waterfront            0.086523\n",
            "view                  0.766136\n",
            "condition             0.650764\n",
            "grade                 1.175500\n",
            "sqft_above          828.138723\n",
            "sqft_basement       442.596699\n",
            "yr_built             29.372639\n",
            "yr_renovated        401.499264\n",
            "zipcode              53.505373\n",
            "sqft_living15       685.425781\n",
            "sqft_lot15        27305.972464\n",
            "dtype: float64\n",
            "\n",
            " The variances of our numerical values are\n",
            " price            1.349736e+11\n",
            "bedrooms         8.651041e-01\n",
            "bathrooms        5.932137e-01\n",
            "sqft_living      8.436428e+05\n",
            "sqft_lot         1.715884e+09\n",
            "floors           2.915930e-01\n",
            "waterfront       7.486257e-03\n",
            "view             5.869651e-01\n",
            "condition        4.234936e-01\n",
            "grade            1.381801e+00\n",
            "sqft_above       6.858137e+05\n",
            "sqft_basement    1.958918e+05\n",
            "yr_built         8.627519e+02\n",
            "yr_renovated     1.612017e+05\n",
            "zipcode          2.862825e+03\n",
            "sqft_living15    4.698085e+05\n",
            "sqft_lot15       7.456161e+08\n",
            "dtype: float64\n",
            "\n",
            " The ranges of our numerical values are\n",
            " price            7625000.0\n",
            "bedrooms              33.0\n",
            "bathrooms              8.0\n",
            "sqft_living        13250.0\n",
            "sqft_lot         1650839.0\n",
            "floors                 2.5\n",
            "waterfront             1.0\n",
            "view                   4.0\n",
            "condition              4.0\n",
            "grade                 12.0\n",
            "sqft_above          9120.0\n",
            "sqft_basement       4820.0\n",
            "yr_built             115.0\n",
            "yr_renovated        2015.0\n",
            "zipcode              198.0\n",
            "sqft_living15       5811.0\n",
            "sqft_lot15        870549.0\n",
            "dtype: float64\n",
            "\n",
            " The kurtosis of our numerical values are\n",
            " price             34.517438\n",
            "bedrooms          49.060108\n",
            "bathrooms          1.279637\n",
            "sqft_living        5.242223\n",
            "sqft_lot         285.040621\n",
            "floors            -0.484246\n",
            "waterfront       127.614090\n",
            "view              10.902118\n",
            "condition          0.525688\n",
            "grade              1.191090\n",
            "sqft_above         3.402008\n",
            "sqft_basement      2.714886\n",
            "yr_built          -0.657207\n",
            "yr_renovated      18.723733\n",
            "zipcode           -0.853604\n",
            "sqft_living15      1.597009\n",
            "sqft_lot15       150.743275\n",
            "dtype: float64\n",
            "\n",
            " The skewness of our numerical values are\n",
            " price             4.021467\n",
            "bedrooms          1.974244\n",
            "bathrooms         0.511164\n",
            "sqft_living       1.471532\n",
            "sqft_lot         13.059170\n",
            "floors            0.616523\n",
            "waterfront       11.384300\n",
            "view              3.396872\n",
            "condition         1.032789\n",
            "grade             0.771297\n",
            "sqft_above        1.446758\n",
            "sqft_basement     1.577814\n",
            "yr_built         -0.469823\n",
            "yr_renovated      4.551974\n",
            "zipcode           0.405533\n",
            "sqft_living15     1.108290\n",
            "sqft_lot15        9.506129\n",
            "dtype: float64\n"
          ],
          "name": "stdout"
        }
      ]
    },
    {
      "cell_type": "markdown",
      "metadata": {
        "id": "BWUxd408h9UB"
      },
      "source": [
        "> From the measures above, we a re able to get the summary statistics of our dataset. We can see that the mean price is 540,178.94, we have a median of 450,000 and most common pricing for houses is 350,000.\n",
        "> Some of our columns such as waterfront, sqft_lot, qft_lot15 are heavily platykurtic, which may be due to the outliers. Zip code and floors are mesokurtic. \n",
        "> Our columns are all positively skewed."
      ]
    },
    {
      "cell_type": "markdown",
      "metadata": {
        "id": "5KSOoPSwO1XK"
      },
      "source": [
        "#### Plots"
      ]
    },
    {
      "cell_type": "code",
      "metadata": {
        "colab": {
          "base_uri": "https://localhost:8080/",
          "height": 315
        },
        "id": "5nnRToniXGDK",
        "outputId": "3389695e-da18-41b4-f72a-d179a253a3da"
      },
      "source": [
        "# Bar graph showing distribution of number of bedrooms\n",
        "#\n",
        "df.bedrooms.value_counts().sort_values().plot.bar()\n",
        "plt.xlabel('Number of Bedrooms')\n",
        "plt.title('A plot on the number of bedrooms')"
      ],
      "execution_count": null,
      "outputs": [
        {
          "output_type": "execute_result",
          "data": {
            "text/plain": [
              "Text(0.5, 1.0, 'A plot on the number of bedrooms')"
            ]
          },
          "metadata": {
            "tags": []
          },
          "execution_count": 14
        },
        {
          "output_type": "display_data",
          "data": {
            "image/png": "[encoded data removed]",
            "text/plain": [
              "<Figure size 432x288 with 1 Axes>"
            ]
          },
          "metadata": {
            "tags": [],
            "needs_background": "light"
          }
        }
      ]
    },
    {
      "cell_type": "code",
      "metadata": {
        "colab": {
          "base_uri": "https://localhost:8080/",
          "height": 318
        },
        "id": "gDB-tjrzkjVn",
        "outputId": "3d69a15d-3c98-4023-8242-4c43785a010d"
      },
      "source": [
        "# Bar graph showing distribution of number of floors\n",
        "#\n",
        "df.floors.value_counts().sort_values().plot.bar()\n",
        "plt.xlabel('Number of floors')\n",
        "plt.title('A plot on the number of floors')"
      ],
      "execution_count": null,
      "outputs": [
        {
          "output_type": "execute_result",
          "data": {
            "text/plain": [
              "Text(0.5, 1.0, 'A plot on the number of floors')"
            ]
          },
          "metadata": {
            "tags": []
          },
          "execution_count": 15
        },
        {
          "output_type": "display_data",
          "data": {
            "image/png": "[encoded data removed]",
            "text/plain": [
              "<Figure size 432x288 with 1 Axes>"
            ]
          },
          "metadata": {
            "tags": [],
            "needs_background": "light"
          }
        }
      ]
    },
    {
      "cell_type": "markdown",
      "metadata": {
        "id": "tYm-D1DPIdSs"
      },
      "source": [
        "### b) Bivariate Analysis"
      ]
    },
    {
      "cell_type": "code",
      "metadata": {
        "colab": {
          "base_uri": "https://localhost:8080/",
          "height": 596
        },
        "id": "w9jUGNsdIipf",
        "outputId": "a43be456-e153-49eb-fb81-88b15a826f1e"
      },
      "source": [
        "# Check for correlation\n",
        "#\n",
        "correlation = df.corr()\n",
        "correlation"
      ],
      "execution_count": null,
      "outputs": [
        {
          "output_type": "execute_result",
          "data": {
            "text/html": [
              "<div>\n",
              "<style scoped>\n",
              "    .dataframe tbody tr th:only-of-type {\n",
              "        vertical-align: middle;\n",
              "    }\n",
              "\n",
              "    .dataframe tbody tr th {\n",
              "        vertical-align: top;\n",
              "    }\n",
              "\n",
              "    .dataframe thead th {\n",
              "        text-align: right;\n",
              "    }\n",
              "</style>\n",
              "<table border=\"1\" class=\"dataframe\">\n",
              "  <thead>\n",
              "    <tr style=\"text-align: right;\">\n",
              "      <th></th>\n",
              "      <th>price</th>\n",
              "      <th>bedrooms</th>\n",
              "      <th>bathrooms</th>\n",
              "      <th>sqft_living</th>\n",
              "      <th>sqft_lot</th>\n",
              "      <th>floors</th>\n",
              "      <th>waterfront</th>\n",
              "      <th>view</th>\n",
              "      <th>condition</th>\n",
              "      <th>grade</th>\n",
              "      <th>sqft_above</th>\n",
              "      <th>sqft_basement</th>\n",
              "      <th>yr_built</th>\n",
              "      <th>yr_renovated</th>\n",
              "      <th>zipcode</th>\n",
              "      <th>sqft_living15</th>\n",
              "      <th>sqft_lot15</th>\n",
              "    </tr>\n",
              "  </thead>\n",
              "  <tbody>\n",
              "    <tr>\n",
              "      <th>price</th>\n",
              "      <td>1.000000</td>\n",
              "      <td>0.308346</td>\n",
              "      <td>0.525140</td>\n",
              "      <td>0.702046</td>\n",
              "      <td>0.089658</td>\n",
              "      <td>0.256793</td>\n",
              "      <td>0.266332</td>\n",
              "      <td>0.397466</td>\n",
              "      <td>0.036397</td>\n",
              "      <td>0.667478</td>\n",
              "      <td>0.605569</td>\n",
              "      <td>0.323849</td>\n",
              "      <td>0.053980</td>\n",
              "      <td>0.126503</td>\n",
              "      <td>-0.053162</td>\n",
              "      <td>0.585382</td>\n",
              "      <td>0.082457</td>\n",
              "    </tr>\n",
              "    <tr>\n",
              "      <th>bedrooms</th>\n",
              "      <td>0.308346</td>\n",
              "      <td>1.000000</td>\n",
              "      <td>0.515935</td>\n",
              "      <td>0.576674</td>\n",
              "      <td>0.031699</td>\n",
              "      <td>0.175448</td>\n",
              "      <td>-0.006583</td>\n",
              "      <td>0.079433</td>\n",
              "      <td>0.028422</td>\n",
              "      <td>0.357003</td>\n",
              "      <td>0.477619</td>\n",
              "      <td>0.303077</td>\n",
              "      <td>0.154276</td>\n",
              "      <td>0.018695</td>\n",
              "      <td>-0.152721</td>\n",
              "      <td>0.391633</td>\n",
              "      <td>0.029233</td>\n",
              "    </tr>\n",
              "    <tr>\n",
              "      <th>bathrooms</th>\n",
              "      <td>0.525140</td>\n",
              "      <td>0.515935</td>\n",
              "      <td>1.000000</td>\n",
              "      <td>0.754688</td>\n",
              "      <td>0.087750</td>\n",
              "      <td>0.500669</td>\n",
              "      <td>0.063747</td>\n",
              "      <td>0.187891</td>\n",
              "      <td>-0.124940</td>\n",
              "      <td>0.664990</td>\n",
              "      <td>0.685351</td>\n",
              "      <td>0.283814</td>\n",
              "      <td>0.505997</td>\n",
              "      <td>0.050879</td>\n",
              "      <td>-0.203831</td>\n",
              "      <td>0.568665</td>\n",
              "      <td>0.087191</td>\n",
              "    </tr>\n",
              "    <tr>\n",
              "      <th>sqft_living</th>\n",
              "      <td>0.702046</td>\n",
              "      <td>0.576674</td>\n",
              "      <td>0.754688</td>\n",
              "      <td>1.000000</td>\n",
              "      <td>0.172830</td>\n",
              "      <td>0.353954</td>\n",
              "      <td>0.103820</td>\n",
              "      <td>0.284641</td>\n",
              "      <td>-0.058768</td>\n",
              "      <td>0.762719</td>\n",
              "      <td>0.876600</td>\n",
              "      <td>0.435054</td>\n",
              "      <td>0.318099</td>\n",
              "      <td>0.055314</td>\n",
              "      <td>-0.199435</td>\n",
              "      <td>0.756420</td>\n",
              "      <td>0.183285</td>\n",
              "    </tr>\n",
              "    <tr>\n",
              "      <th>sqft_lot</th>\n",
              "      <td>0.089658</td>\n",
              "      <td>0.031699</td>\n",
              "      <td>0.087750</td>\n",
              "      <td>0.172830</td>\n",
              "      <td>1.000000</td>\n",
              "      <td>-0.005171</td>\n",
              "      <td>0.021601</td>\n",
              "      <td>0.074753</td>\n",
              "      <td>-0.008967</td>\n",
              "      <td>0.113644</td>\n",
              "      <td>0.183527</td>\n",
              "      <td>0.015271</td>\n",
              "      <td>0.053105</td>\n",
              "      <td>0.007677</td>\n",
              "      <td>-0.129611</td>\n",
              "      <td>0.144620</td>\n",
              "      <td>0.718556</td>\n",
              "    </tr>\n",
              "    <tr>\n",
              "      <th>floors</th>\n",
              "      <td>0.256793</td>\n",
              "      <td>0.175448</td>\n",
              "      <td>0.500669</td>\n",
              "      <td>0.353954</td>\n",
              "      <td>-0.005171</td>\n",
              "      <td>1.000000</td>\n",
              "      <td>0.023711</td>\n",
              "      <td>0.029325</td>\n",
              "      <td>-0.263779</td>\n",
              "      <td>0.458151</td>\n",
              "      <td>0.523874</td>\n",
              "      <td>-0.245673</td>\n",
              "      <td>0.489347</td>\n",
              "      <td>0.006156</td>\n",
              "      <td>-0.059025</td>\n",
              "      <td>0.279861</td>\n",
              "      <td>-0.011250</td>\n",
              "    </tr>\n",
              "    <tr>\n",
              "      <th>waterfront</th>\n",
              "      <td>0.266332</td>\n",
              "      <td>-0.006583</td>\n",
              "      <td>0.063747</td>\n",
              "      <td>0.103820</td>\n",
              "      <td>0.021601</td>\n",
              "      <td>0.023711</td>\n",
              "      <td>1.000000</td>\n",
              "      <td>0.401993</td>\n",
              "      <td>0.016652</td>\n",
              "      <td>0.082785</td>\n",
              "      <td>0.072080</td>\n",
              "      <td>0.080585</td>\n",
              "      <td>-0.026159</td>\n",
              "      <td>0.092950</td>\n",
              "      <td>0.030277</td>\n",
              "      <td>0.086469</td>\n",
              "      <td>0.030702</td>\n",
              "    </tr>\n",
              "    <tr>\n",
              "      <th>view</th>\n",
              "      <td>0.397466</td>\n",
              "      <td>0.079433</td>\n",
              "      <td>0.187891</td>\n",
              "      <td>0.284641</td>\n",
              "      <td>0.074753</td>\n",
              "      <td>0.029325</td>\n",
              "      <td>0.401993</td>\n",
              "      <td>1.000000</td>\n",
              "      <td>0.045836</td>\n",
              "      <td>0.251378</td>\n",
              "      <td>0.167659</td>\n",
              "      <td>0.276996</td>\n",
              "      <td>-0.053229</td>\n",
              "      <td>0.103208</td>\n",
              "      <td>0.084838</td>\n",
              "      <td>0.280404</td>\n",
              "      <td>0.072577</td>\n",
              "    </tr>\n",
              "    <tr>\n",
              "      <th>condition</th>\n",
              "      <td>0.036397</td>\n",
              "      <td>0.028422</td>\n",
              "      <td>-0.124940</td>\n",
              "      <td>-0.058768</td>\n",
              "      <td>-0.008967</td>\n",
              "      <td>-0.263779</td>\n",
              "      <td>0.016652</td>\n",
              "      <td>0.045836</td>\n",
              "      <td>1.000000</td>\n",
              "      <td>-0.144655</td>\n",
              "      <td>-0.158212</td>\n",
              "      <td>0.174071</td>\n",
              "      <td>-0.361347</td>\n",
              "      <td>-0.060862</td>\n",
              "      <td>0.002962</td>\n",
              "      <td>-0.092854</td>\n",
              "      <td>-0.003424</td>\n",
              "    </tr>\n",
              "    <tr>\n",
              "      <th>grade</th>\n",
              "      <td>0.667478</td>\n",
              "      <td>0.357003</td>\n",
              "      <td>0.664990</td>\n",
              "      <td>0.762719</td>\n",
              "      <td>0.113644</td>\n",
              "      <td>0.458151</td>\n",
              "      <td>0.082785</td>\n",
              "      <td>0.251378</td>\n",
              "      <td>-0.144655</td>\n",
              "      <td>1.000000</td>\n",
              "      <td>0.755919</td>\n",
              "      <td>0.168443</td>\n",
              "      <td>0.446966</td>\n",
              "      <td>0.014372</td>\n",
              "      <td>-0.184795</td>\n",
              "      <td>0.713208</td>\n",
              "      <td>0.119265</td>\n",
              "    </tr>\n",
              "    <tr>\n",
              "      <th>sqft_above</th>\n",
              "      <td>0.605569</td>\n",
              "      <td>0.477619</td>\n",
              "      <td>0.685351</td>\n",
              "      <td>0.876600</td>\n",
              "      <td>0.183527</td>\n",
              "      <td>0.523874</td>\n",
              "      <td>0.072080</td>\n",
              "      <td>0.167659</td>\n",
              "      <td>-0.158212</td>\n",
              "      <td>0.755919</td>\n",
              "      <td>1.000000</td>\n",
              "      <td>-0.051923</td>\n",
              "      <td>0.423922</td>\n",
              "      <td>0.023233</td>\n",
              "      <td>-0.261163</td>\n",
              "      <td>0.731870</td>\n",
              "      <td>0.194060</td>\n",
              "    </tr>\n",
              "    <tr>\n",
              "      <th>sqft_basement</th>\n",
              "      <td>0.323849</td>\n",
              "      <td>0.303077</td>\n",
              "      <td>0.283814</td>\n",
              "      <td>0.435054</td>\n",
              "      <td>0.015271</td>\n",
              "      <td>-0.245673</td>\n",
              "      <td>0.080585</td>\n",
              "      <td>0.276996</td>\n",
              "      <td>0.174071</td>\n",
              "      <td>0.168443</td>\n",
              "      <td>-0.051923</td>\n",
              "      <td>1.000000</td>\n",
              "      <td>-0.133062</td>\n",
              "      <td>0.071320</td>\n",
              "      <td>0.074781</td>\n",
              "      <td>0.200367</td>\n",
              "      <td>0.017260</td>\n",
              "    </tr>\n",
              "    <tr>\n",
              "      <th>yr_built</th>\n",
              "      <td>0.053980</td>\n",
              "      <td>0.154276</td>\n",
              "      <td>0.505997</td>\n",
              "      <td>0.318099</td>\n",
              "      <td>0.053105</td>\n",
              "      <td>0.489347</td>\n",
              "      <td>-0.026159</td>\n",
              "      <td>-0.053229</td>\n",
              "      <td>-0.361347</td>\n",
              "      <td>0.446966</td>\n",
              "      <td>0.423922</td>\n",
              "      <td>-0.133062</td>\n",
              "      <td>1.000000</td>\n",
              "      <td>-0.224729</td>\n",
              "      <td>-0.346808</td>\n",
              "      <td>0.326298</td>\n",
              "      <td>0.070999</td>\n",
              "    </tr>\n",
              "    <tr>\n",
              "      <th>yr_renovated</th>\n",
              "      <td>0.126503</td>\n",
              "      <td>0.018695</td>\n",
              "      <td>0.050879</td>\n",
              "      <td>0.055314</td>\n",
              "      <td>0.007677</td>\n",
              "      <td>0.006156</td>\n",
              "      <td>0.092950</td>\n",
              "      <td>0.103208</td>\n",
              "      <td>-0.060862</td>\n",
              "      <td>0.014372</td>\n",
              "      <td>0.023233</td>\n",
              "      <td>0.071320</td>\n",
              "      <td>-0.224729</td>\n",
              "      <td>1.000000</td>\n",
              "      <td>0.064388</td>\n",
              "      <td>-0.002841</td>\n",
              "      <td>0.007837</td>\n",
              "    </tr>\n",
              "    <tr>\n",
              "      <th>zipcode</th>\n",
              "      <td>-0.053162</td>\n",
              "      <td>-0.152721</td>\n",
              "      <td>-0.203831</td>\n",
              "      <td>-0.199435</td>\n",
              "      <td>-0.129611</td>\n",
              "      <td>-0.059025</td>\n",
              "      <td>0.030277</td>\n",
              "      <td>0.084838</td>\n",
              "      <td>0.002962</td>\n",
              "      <td>-0.184795</td>\n",
              "      <td>-0.261163</td>\n",
              "      <td>0.074781</td>\n",
              "      <td>-0.346808</td>\n",
              "      <td>0.064388</td>\n",
              "      <td>1.000000</td>\n",
              "      <td>-0.279033</td>\n",
              "      <td>-0.147257</td>\n",
              "    </tr>\n",
              "    <tr>\n",
              "      <th>sqft_living15</th>\n",
              "      <td>0.585382</td>\n",
              "      <td>0.391633</td>\n",
              "      <td>0.568665</td>\n",
              "      <td>0.756420</td>\n",
              "      <td>0.144620</td>\n",
              "      <td>0.279861</td>\n",
              "      <td>0.086469</td>\n",
              "      <td>0.280404</td>\n",
              "      <td>-0.092854</td>\n",
              "      <td>0.713208</td>\n",
              "      <td>0.731870</td>\n",
              "      <td>0.200367</td>\n",
              "      <td>0.326298</td>\n",
              "      <td>-0.002841</td>\n",
              "      <td>-0.279033</td>\n",
              "      <td>1.000000</td>\n",
              "      <td>0.183194</td>\n",
              "    </tr>\n",
              "    <tr>\n",
              "      <th>sqft_lot15</th>\n",
              "      <td>0.082457</td>\n",
              "      <td>0.029233</td>\n",
              "      <td>0.087191</td>\n",
              "      <td>0.183285</td>\n",
              "      <td>0.718556</td>\n",
              "      <td>-0.011250</td>\n",
              "      <td>0.030702</td>\n",
              "      <td>0.072577</td>\n",
              "      <td>-0.003424</td>\n",
              "      <td>0.119265</td>\n",
              "      <td>0.194060</td>\n",
              "      <td>0.017260</td>\n",
              "      <td>0.070999</td>\n",
              "      <td>0.007837</td>\n",
              "      <td>-0.147257</td>\n",
              "      <td>0.183194</td>\n",
              "      <td>1.000000</td>\n",
              "    </tr>\n",
              "  </tbody>\n",
              "</table>\n",
              "</div>"
            ],
            "text/plain": [
              "                  price  bedrooms  ...  sqft_living15  sqft_lot15\n",
              "price          1.000000  0.308346  ...       0.585382    0.082457\n",
              "bedrooms       0.308346  1.000000  ...       0.391633    0.029233\n",
              "bathrooms      0.525140  0.515935  ...       0.568665    0.087191\n",
              "sqft_living    0.702046  0.576674  ...       0.756420    0.183285\n",
              "sqft_lot       0.089658  0.031699  ...       0.144620    0.718556\n",
              "floors         0.256793  0.175448  ...       0.279861   -0.011250\n",
              "waterfront     0.266332 -0.006583  ...       0.086469    0.030702\n",
              "view           0.397466  0.079433  ...       0.280404    0.072577\n",
              "condition      0.036397  0.028422  ...      -0.092854   -0.003424\n",
              "grade          0.667478  0.357003  ...       0.713208    0.119265\n",
              "sqft_above     0.605569  0.477619  ...       0.731870    0.194060\n",
              "sqft_basement  0.323849  0.303077  ...       0.200367    0.017260\n",
              "yr_built       0.053980  0.154276  ...       0.326298    0.070999\n",
              "yr_renovated   0.126503  0.018695  ...      -0.002841    0.007837\n",
              "zipcode       -0.053162 -0.152721  ...      -0.279033   -0.147257\n",
              "sqft_living15  0.585382  0.391633  ...       1.000000    0.183194\n",
              "sqft_lot15     0.082457  0.029233  ...       0.183194    1.000000\n",
              "\n",
              "[17 rows x 17 columns]"
            ]
          },
          "metadata": {
            "tags": []
          },
          "execution_count": 16
        }
      ]
    },
    {
      "cell_type": "code",
      "metadata": {
        "colab": {
          "base_uri": "https://localhost:8080/",
          "height": 551
        },
        "id": "Ujc7nr00PNCy",
        "outputId": "728dac09-e771-4f8f-892f-9b8820578d23"
      },
      "source": [
        "# Plotting a correlation heatmap\n",
        "#\n",
        "plt.figure(figsize = (25,20))\n",
        "sns.heatmap(correlation, xticklabels=correlation.columns, yticklabels=correlation.columns, annot=True)"
      ],
      "execution_count": null,
      "outputs": [
        {
          "output_type": "execute_result",
          "data": {
            "text/plain": [
              "<matplotlib.axes._subplots.AxesSubplot at 0x7f5e532495d0>"
            ]
          },
          "metadata": {
            "tags": []
          },
          "execution_count": 17
        },
        {
          "output_type": "display_data",
          "data": {
            "image/png": "[encoded data removed]",
            "text/plain": [
              "<Figure size 1800x1440 with 2 Axes>"
            ]
          },
          "metadata": {
            "tags": [],
            "needs_background": "light"
          }
        }
      ]
    },
    {
      "cell_type": "markdown",
      "metadata": {
        "id": "cP-O7o--oeqB"
      },
      "source": [
        "> Most of our variables are positively correlated as evidenced on our heatmap except for variables such as sqft_living15 with yr_renovated & zipcode. Some variables such as sqqft_above and sqft_living have a high positive correlation. "
      ]
    },
    {
      "cell_type": "code",
      "metadata": {
        "colab": {
          "base_uri": "https://localhost:8080/",
          "height": 295
        },
        "id": "8FiQpTHhpGxt",
        "outputId": "19a603a7-d781-4b7a-ba75-d81a59ec5cb6"
      },
      "source": [
        "# Ploting relationship between housing prices and number of views\n",
        "#\n",
        "df_1 = df.groupby('price').sum()\n",
        "df_1 = df_1.reset_index(inplace=True)\n",
        "\n",
        "sns.barplot(x = df['view'], y = df['price'], data=df_1)\n",
        "plt.xlabel('Number of views')\n",
        "plt.ylabel('Housing prices')\n",
        "plt.title('Housing prices by the number of views')\n",
        "plt.show()"
      ],
      "execution_count": null,
      "outputs": [
        {
          "output_type": "display_data",
          "data": {
            "image/png": "[encoded data removed]",
            "text/plain": [
              "<Figure size 432x288 with 1 Axes>"
            ]
          },
          "metadata": {
            "tags": [],
            "needs_background": "light"
          }
        }
      ]
    },
    {
      "cell_type": "code",
      "metadata": {
        "colab": {
          "base_uri": "https://localhost:8080/",
          "height": 295
        },
        "id": "Oc2VZJD0qgrw",
        "outputId": "fb18a22c-bbaa-439e-eca3-5152fe1efdc8"
      },
      "source": [
        "# Ploting relationship between housing prices and number of views\n",
        "sns.barplot(x = df['bedrooms'], y = df['price'], data=df_1)\n",
        "plt.xlabel('Number of bedrooms')\n",
        "plt.ylabel('Housing prices')\n",
        "plt.title('Housing prices by the number of bedrooms')\n",
        "plt.show()"
      ],
      "execution_count": null,
      "outputs": [
        {
          "output_type": "display_data",
          "data": {
            "image/png": "[encoded data removed]",
            "text/plain": [
              "<Figure size 432x288 with 1 Axes>"
            ]
          },
          "metadata": {
            "tags": [],
            "needs_background": "light"
          }
        }
      ]
    },
    {
      "cell_type": "code",
      "metadata": {
        "colab": {
          "base_uri": "https://localhost:8080/",
          "height": 448
        },
        "id": "v8jM-HXbrQNp",
        "outputId": "4876ceda-2b97-4ee4-e547-be92f9eeb6e8"
      },
      "source": [
        "# Checking distribution of price\n",
        "#\n",
        "# Plotting a histogram for the price and the living room area.\n",
        "\n",
        "df['price'].hist(bins=30, figsize=(30, 20))"
      ],
      "execution_count": null,
      "outputs": [
        {
          "output_type": "execute_result",
          "data": {
            "text/plain": [
              "<matplotlib.axes._subplots.AxesSubplot at 0x7f5e52d97d50>"
            ]
          },
          "metadata": {
            "tags": []
          },
          "execution_count": 20
        },
        {
          "output_type": "display_data",
          "data": {
            "image/png": "[encoded data removed]",
            "text/plain": [
              "<Figure size 2160x1440 with 1 Axes>"
            ]
          },
          "metadata": {
            "tags": [],
            "needs_background": "light"
          }
        }
      ]
    },
    {
      "cell_type": "markdown",
      "metadata": {
        "id": "vTbdjSrhVIiT"
      },
      "source": [
        "## 6. Regression Analysis"
      ]
    },
    {
      "cell_type": "code",
      "metadata": {
        "id": "apZC9LTot6zG"
      },
      "source": [
        "# Creating a copy of our dataset\n",
        "#\n",
        "df1 =df.copy()"
      ],
      "execution_count": null,
      "outputs": []
    },
    {
      "cell_type": "code",
      "metadata": {
        "id": "nvruV0XRuiw7"
      },
      "source": [
        "# Encoding zipcode column\n",
        "#\n",
        "le = LabelEncoder()\n",
        "df['zipcode'] = le.fit_transform(df['zipcode'])"
      ],
      "execution_count": null,
      "outputs": []
    },
    {
      "cell_type": "code",
      "metadata": {
        "id": "v9F8uDpDv6Zs"
      },
      "source": [
        "# Defining the X and y variables\n",
        "X = df.drop(['price'],axis=1)\n",
        "y = df['price']"
      ],
      "execution_count": null,
      "outputs": []
    },
    {
      "cell_type": "code",
      "metadata": {
        "colab": {
          "base_uri": "https://localhost:8080/",
          "height": 596
        },
        "id": "PJLZaRzJXJ3w",
        "outputId": "211369b2-eee8-4f67-a27f-242715529659"
      },
      "source": [
        "# Multicollinearity\n",
        "# We shall use the correlation above to check for multicollinearity using the VIF Score\n",
        "#\n",
        "pd.DataFrame(np.linalg.inv(correlation.values), index = correlation.index, columns=correlation.columns)\n"
      ],
      "execution_count": null,
      "outputs": [
        {
          "output_type": "execute_result",
          "data": {
            "text/html": [
              "<div>\n",
              "<style scoped>\n",
              "    .dataframe tbody tr th:only-of-type {\n",
              "        vertical-align: middle;\n",
              "    }\n",
              "\n",
              "    .dataframe tbody tr th {\n",
              "        vertical-align: top;\n",
              "    }\n",
              "\n",
              "    .dataframe thead th {\n",
              "        text-align: right;\n",
              "    }\n",
              "</style>\n",
              "<table border=\"1\" class=\"dataframe\">\n",
              "  <thead>\n",
              "    <tr style=\"text-align: right;\">\n",
              "      <th></th>\n",
              "      <th>price</th>\n",
              "      <th>bedrooms</th>\n",
              "      <th>bathrooms</th>\n",
              "      <th>sqft_living</th>\n",
              "      <th>sqft_lot</th>\n",
              "      <th>floors</th>\n",
              "      <th>waterfront</th>\n",
              "      <th>view</th>\n",
              "      <th>condition</th>\n",
              "      <th>grade</th>\n",
              "      <th>sqft_above</th>\n",
              "      <th>sqft_basement</th>\n",
              "      <th>yr_built</th>\n",
              "      <th>yr_renovated</th>\n",
              "      <th>zipcode</th>\n",
              "      <th>sqft_living15</th>\n",
              "      <th>sqft_lot15</th>\n",
              "    </tr>\n",
              "  </thead>\n",
              "  <tbody>\n",
              "    <tr>\n",
              "      <th>price</th>\n",
              "      <td>2.888714</td>\n",
              "      <td>0.287686</td>\n",
              "      <td>-0.276700</td>\n",
              "      <td>-7.273479e-01</td>\n",
              "      <td>0.000809</td>\n",
              "      <td>-0.115057</td>\n",
              "      <td>-0.393698</td>\n",
              "      <td>-0.261704</td>\n",
              "      <td>-0.099753</td>\n",
              "      <td>-1.107822</td>\n",
              "      <td>-3.897470e-01</td>\n",
              "      <td>-2.325536e-01</td>\n",
              "      <td>0.826225</td>\n",
              "      <td>-0.032560</td>\n",
              "      <td>0.002942</td>\n",
              "      <td>-0.133394</td>\n",
              "      <td>0.118261</td>\n",
              "    </tr>\n",
              "    <tr>\n",
              "      <th>bedrooms</th>\n",
              "      <td>0.287686</td>\n",
              "      <td>1.678357</td>\n",
              "      <td>-0.487819</td>\n",
              "      <td>-6.881658e-01</td>\n",
              "      <td>0.048661</td>\n",
              "      <td>0.042033</td>\n",
              "      <td>0.023109</td>\n",
              "      <td>0.082270</td>\n",
              "      <td>-0.063295</td>\n",
              "      <td>0.206457</td>\n",
              "      <td>-3.627948e-01</td>\n",
              "      <td>-2.095190e-01</td>\n",
              "      <td>0.209197</td>\n",
              "      <td>0.041174</td>\n",
              "      <td>0.085208</td>\n",
              "      <td>0.020450</td>\n",
              "      <td>0.097516</td>\n",
              "    </tr>\n",
              "    <tr>\n",
              "      <th>bathrooms</th>\n",
              "      <td>-0.276700</td>\n",
              "      <td>-0.487819</td>\n",
              "      <td>3.374934</td>\n",
              "      <td>-3.078119e+00</td>\n",
              "      <td>-0.018698</td>\n",
              "      <td>-0.673066</td>\n",
              "      <td>0.047374</td>\n",
              "      <td>-0.015460</td>\n",
              "      <td>-0.125453</td>\n",
              "      <td>-0.183428</td>\n",
              "      <td>1.619510e+00</td>\n",
              "      <td>4.534958e-01</td>\n",
              "      <td>-0.990843</td>\n",
              "      <td>-0.254325</td>\n",
              "      <td>0.011224</td>\n",
              "      <td>0.111523</td>\n",
              "      <td>0.065752</td>\n",
              "    </tr>\n",
              "    <tr>\n",
              "      <th>sqft_living</th>\n",
              "      <td>-0.724520</td>\n",
              "      <td>-0.688204</td>\n",
              "      <td>-3.080432</td>\n",
              "      <td>1.808269e+13</td>\n",
              "      <td>-0.064448</td>\n",
              "      <td>2.722855</td>\n",
              "      <td>0.020181</td>\n",
              "      <td>0.050914</td>\n",
              "      <td>-0.145246</td>\n",
              "      <td>-1.728783</td>\n",
              "      <td>-1.630373e+13</td>\n",
              "      <td>-8.713486e+12</td>\n",
              "      <td>0.332886</td>\n",
              "      <td>0.173206</td>\n",
              "      <td>-0.451386</td>\n",
              "      <td>-0.995200</td>\n",
              "      <td>-0.061693</td>\n",
              "    </tr>\n",
              "    <tr>\n",
              "      <th>sqft_lot</th>\n",
              "      <td>0.000809</td>\n",
              "      <td>0.048661</td>\n",
              "      <td>-0.018698</td>\n",
              "      <td>-6.520384e-02</td>\n",
              "      <td>2.091008</td>\n",
              "      <td>0.061771</td>\n",
              "      <td>0.028803</td>\n",
              "      <td>-0.058732</td>\n",
              "      <td>0.027514</td>\n",
              "      <td>-0.013352</td>\n",
              "      <td>-1.721284e-01</td>\n",
              "      <td>2.295295e-03</td>\n",
              "      <td>0.051028</td>\n",
              "      <td>0.015649</td>\n",
              "      <td>0.061440</td>\n",
              "      <td>0.142506</td>\n",
              "      <td>-1.472100</td>\n",
              "    </tr>\n",
              "    <tr>\n",
              "      <th>floors</th>\n",
              "      <td>-0.115057</td>\n",
              "      <td>0.042033</td>\n",
              "      <td>-0.673066</td>\n",
              "      <td>2.718038e+00</td>\n",
              "      <td>0.061771</td>\n",
              "      <td>1.989834</td>\n",
              "      <td>0.008847</td>\n",
              "      <td>-0.023757</td>\n",
              "      <td>0.100809</td>\n",
              "      <td>-0.253290</td>\n",
              "      <td>-2.866481e+00</td>\n",
              "      <td>-6.922938e-01</td>\n",
              "      <td>-0.440269</td>\n",
              "      <td>-0.069470</td>\n",
              "      <td>-0.263946</td>\n",
              "      <td>0.298316</td>\n",
              "      <td>0.085222</td>\n",
              "    </tr>\n",
              "    <tr>\n",
              "      <th>waterfront</th>\n",
              "      <td>-0.393698</td>\n",
              "      <td>0.023109</td>\n",
              "      <td>0.047374</td>\n",
              "      <td>2.014822e-02</td>\n",
              "      <td>0.028803</td>\n",
              "      <td>0.008847</td>\n",
              "      <td>1.257111</td>\n",
              "      <td>-0.459442</td>\n",
              "      <td>0.000267</td>\n",
              "      <td>0.197358</td>\n",
              "      <td>1.609611e-02</td>\n",
              "      <td>6.440488e-02</td>\n",
              "      <td>-0.128886</td>\n",
              "      <td>-0.061022</td>\n",
              "      <td>0.013788</td>\n",
              "      <td>0.078968</td>\n",
              "      <td>-0.032465</td>\n",
              "    </tr>\n",
              "    <tr>\n",
              "      <th>view</th>\n",
              "      <td>-0.261704</td>\n",
              "      <td>0.082270</td>\n",
              "      <td>-0.015460</td>\n",
              "      <td>5.165668e-02</td>\n",
              "      <td>-0.058732</td>\n",
              "      <td>-0.023757</td>\n",
              "      <td>-0.459442</td>\n",
              "      <td>1.443403</td>\n",
              "      <td>-0.018427</td>\n",
              "      <td>-0.068167</td>\n",
              "      <td>8.422296e-02</td>\n",
              "      <td>-2.266967e-01</td>\n",
              "      <td>0.067274</td>\n",
              "      <td>-0.038540</td>\n",
              "      <td>-0.141903</td>\n",
              "      <td>-0.287403</td>\n",
              "      <td>-0.014741</td>\n",
              "    </tr>\n",
              "    <tr>\n",
              "      <th>condition</th>\n",
              "      <td>-0.099753</td>\n",
              "      <td>-0.063295</td>\n",
              "      <td>-0.125453</td>\n",
              "      <td>-1.458355e-01</td>\n",
              "      <td>0.027514</td>\n",
              "      <td>0.100809</td>\n",
              "      <td>0.000267</td>\n",
              "      <td>-0.018427</td>\n",
              "      <td>1.249504</td>\n",
              "      <td>0.001895</td>\n",
              "      <td>2.131294e-01</td>\n",
              "      <td>-2.616837e-03</td>\n",
              "      <td>0.515845</td>\n",
              "      <td>0.205507</td>\n",
              "      <td>0.178367</td>\n",
              "      <td>0.085345</td>\n",
              "      <td>-0.034429</td>\n",
              "    </tr>\n",
              "    <tr>\n",
              "      <th>grade</th>\n",
              "      <td>-1.107822</td>\n",
              "      <td>0.206457</td>\n",
              "      <td>-0.183428</td>\n",
              "      <td>-1.724519e+00</td>\n",
              "      <td>-0.013352</td>\n",
              "      <td>-0.253290</td>\n",
              "      <td>0.197358</td>\n",
              "      <td>-0.068167</td>\n",
              "      <td>0.001895</td>\n",
              "      <td>3.675607</td>\n",
              "      <td>4.630071e-01</td>\n",
              "      <td>5.165427e-01</td>\n",
              "      <td>-0.772434</td>\n",
              "      <td>-0.035964</td>\n",
              "      <td>-0.146636</td>\n",
              "      <td>-0.814080</td>\n",
              "      <td>0.068510</td>\n",
              "    </tr>\n",
              "    <tr>\n",
              "      <th>sqft_above</th>\n",
              "      <td>-0.394084</td>\n",
              "      <td>-0.362833</td>\n",
              "      <td>1.619938</td>\n",
              "      <td>-1.630373e+13</td>\n",
              "      <td>-0.172790</td>\n",
              "      <td>-2.870566</td>\n",
              "      <td>0.016075</td>\n",
              "      <td>0.084868</td>\n",
              "      <td>0.212602</td>\n",
              "      <td>0.467040</td>\n",
              "      <td>1.469977e+13</td>\n",
              "      <td>7.856258e+12</td>\n",
              "      <td>-0.213403</td>\n",
              "      <td>-0.161576</td>\n",
              "      <td>0.504574</td>\n",
              "      <td>-0.640580</td>\n",
              "      <td>-0.196912</td>\n",
              "    </tr>\n",
              "    <tr>\n",
              "      <th>sqft_basement</th>\n",
              "      <td>-0.232788</td>\n",
              "      <td>-0.208899</td>\n",
              "      <td>0.453975</td>\n",
              "      <td>-8.713486e+12</td>\n",
              "      <td>0.001947</td>\n",
              "      <td>-0.694333</td>\n",
              "      <td>0.064417</td>\n",
              "      <td>-0.226428</td>\n",
              "      <td>-0.002933</td>\n",
              "      <td>0.518795</td>\n",
              "      <td>7.856258e+12</td>\n",
              "      <td>4.198757e+12</td>\n",
              "      <td>-0.023132</td>\n",
              "      <td>-0.083905</td>\n",
              "      <td>0.059613</td>\n",
              "      <td>0.056904</td>\n",
              "      <td>-0.038915</td>\n",
              "    </tr>\n",
              "    <tr>\n",
              "      <th>yr_built</th>\n",
              "      <td>0.826225</td>\n",
              "      <td>0.209197</td>\n",
              "      <td>-0.990843</td>\n",
              "      <td>3.299855e-01</td>\n",
              "      <td>0.051028</td>\n",
              "      <td>-0.440269</td>\n",
              "      <td>-0.128886</td>\n",
              "      <td>0.067274</td>\n",
              "      <td>0.515845</td>\n",
              "      <td>-0.772434</td>\n",
              "      <td>-2.107879e-01</td>\n",
              "      <td>-2.173451e-02</td>\n",
              "      <td>2.458655</td>\n",
              "      <td>0.499056</td>\n",
              "      <td>0.525180</td>\n",
              "      <td>-0.031115</td>\n",
              "      <td>-0.051141</td>\n",
              "    </tr>\n",
              "    <tr>\n",
              "      <th>yr_renovated</th>\n",
              "      <td>-0.032560</td>\n",
              "      <td>0.041174</td>\n",
              "      <td>-0.254325</td>\n",
              "      <td>1.727409e-01</td>\n",
              "      <td>0.015649</td>\n",
              "      <td>-0.069470</td>\n",
              "      <td>-0.061022</td>\n",
              "      <td>-0.038540</td>\n",
              "      <td>0.205507</td>\n",
              "      <td>-0.035964</td>\n",
              "      <td>-1.611561e-01</td>\n",
              "      <td>-8.368034e-02</td>\n",
              "      <td>0.499056</td>\n",
              "      <td>1.147677</td>\n",
              "      <td>0.068350</td>\n",
              "      <td>0.094465</td>\n",
              "      <td>-0.029316</td>\n",
              "    </tr>\n",
              "    <tr>\n",
              "      <th>zipcode</th>\n",
              "      <td>0.002942</td>\n",
              "      <td>0.085208</td>\n",
              "      <td>0.011224</td>\n",
              "      <td>-4.511576e-01</td>\n",
              "      <td>0.061440</td>\n",
              "      <td>-0.263946</td>\n",
              "      <td>0.013788</td>\n",
              "      <td>-0.141903</td>\n",
              "      <td>0.178367</td>\n",
              "      <td>-0.146636</td>\n",
              "      <td>5.043681e-01</td>\n",
              "      <td>5.950333e-02</td>\n",
              "      <td>0.525180</td>\n",
              "      <td>0.068350</td>\n",
              "      <td>1.306182</td>\n",
              "      <td>0.326566</td>\n",
              "      <td>0.055628</td>\n",
              "    </tr>\n",
              "    <tr>\n",
              "      <th>sqft_living15</th>\n",
              "      <td>-0.133394</td>\n",
              "      <td>0.020450</td>\n",
              "      <td>0.111523</td>\n",
              "      <td>-9.963643e-01</td>\n",
              "      <td>0.142506</td>\n",
              "      <td>0.298316</td>\n",
              "      <td>0.078968</td>\n",
              "      <td>-0.287403</td>\n",
              "      <td>0.085345</td>\n",
              "      <td>-0.814080</td>\n",
              "      <td>-6.395298e-01</td>\n",
              "      <td>5.746481e-02</td>\n",
              "      <td>-0.031115</td>\n",
              "      <td>0.094465</td>\n",
              "      <td>0.326566</td>\n",
              "      <td>2.905843</td>\n",
              "      <td>-0.159588</td>\n",
              "    </tr>\n",
              "    <tr>\n",
              "      <th>sqft_lot15</th>\n",
              "      <td>0.118261</td>\n",
              "      <td>0.097516</td>\n",
              "      <td>0.065752</td>\n",
              "      <td>-6.159845e-02</td>\n",
              "      <td>-1.472100</td>\n",
              "      <td>0.085222</td>\n",
              "      <td>-0.032465</td>\n",
              "      <td>-0.014741</td>\n",
              "      <td>-0.034429</td>\n",
              "      <td>0.068510</td>\n",
              "      <td>-1.969979e-01</td>\n",
              "      <td>-3.896113e-02</td>\n",
              "      <td>-0.051141</td>\n",
              "      <td>-0.029316</td>\n",
              "      <td>0.055628</td>\n",
              "      <td>-0.159588</td>\n",
              "      <td>2.125668</td>\n",
              "    </tr>\n",
              "  </tbody>\n",
              "</table>\n",
              "</div>"
            ],
            "text/plain": [
              "                  price  bedrooms  ...  sqft_living15  sqft_lot15\n",
              "price          2.888714  0.287686  ...      -0.133394    0.118261\n",
              "bedrooms       0.287686  1.678357  ...       0.020450    0.097516\n",
              "bathrooms     -0.276700 -0.487819  ...       0.111523    0.065752\n",
              "sqft_living   -0.724520 -0.688204  ...      -0.995200   -0.061693\n",
              "sqft_lot       0.000809  0.048661  ...       0.142506   -1.472100\n",
              "floors        -0.115057  0.042033  ...       0.298316    0.085222\n",
              "waterfront    -0.393698  0.023109  ...       0.078968   -0.032465\n",
              "view          -0.261704  0.082270  ...      -0.287403   -0.014741\n",
              "condition     -0.099753 -0.063295  ...       0.085345   -0.034429\n",
              "grade         -1.107822  0.206457  ...      -0.814080    0.068510\n",
              "sqft_above    -0.394084 -0.362833  ...      -0.640580   -0.196912\n",
              "sqft_basement -0.232788 -0.208899  ...       0.056904   -0.038915\n",
              "yr_built       0.826225  0.209197  ...      -0.031115   -0.051141\n",
              "yr_renovated  -0.032560  0.041174  ...       0.094465   -0.029316\n",
              "zipcode        0.002942  0.085208  ...       0.326566    0.055628\n",
              "sqft_living15 -0.133394  0.020450  ...       2.905843   -0.159588\n",
              "sqft_lot15     0.118261  0.097516  ...      -0.159588    2.125668\n",
              "\n",
              "[17 rows x 17 columns]"
            ]
          },
          "metadata": {
            "tags": []
          },
          "execution_count": 24
        }
      ]
    },
    {
      "cell_type": "markdown",
      "metadata": {
        "id": "M5z8swbuT_09"
      },
      "source": [
        "> The VIF score for each variable is found alongside the diagonal. None of our scores have a VIF of above 5, thus we can conclude that there is very low multicollinearity in independent variables and thus can be ignored. Had it been 5 or more, that would have been an issue for us.\n"
      ]
    },
    {
      "cell_type": "markdown",
      "metadata": {
        "id": "Y-ubayOZzMgD"
      },
      "source": [
        "### a) Multiple Linear Regression:\n",
        "This is a regression method that assumes that there exists a linear relationship between your dependent and independent variables. It also assumes that the residuals are normally distributed and that our independent variables are not highl correlated in our dataset. It also assumes that the variance of error terms are honogenous."
      ]
    },
    {
      "cell_type": "code",
      "metadata": {
        "colab": {
          "base_uri": "https://localhost:8080/"
        },
        "id": "95llf2fazUuJ",
        "outputId": "10f812d1-3544-450b-dd04-f44807bf5e71"
      },
      "source": [
        "#Split data into train and test v\n",
        "#\n",
        "X_train,X_test,y_train,y_test = train_test_split(X,y,test_size=0.2,random_state=101)\n",
        "\n",
        "#Fitting the data\n",
        "#\n",
        "regressor = LinearRegression()\n",
        "regressor.fit(X_train,y_train)\n",
        "\n",
        "#Print the regressor intercept and coefficients \n",
        "#\n",
        "print( regressor.intercept_)\n",
        "print(regressor.coef_)\n",
        "\n",
        "#Predict the prices using our using our test data\n",
        "#\n",
        "y_predict = regressor.predict(X_test)"
      ],
      "execution_count": null,
      "outputs": [
        {
          "output_type": "stream",
          "text": [
            "6051697.917419397\n",
            "[-3.94745773e+04  4.14060342e+04  1.11191987e+02 -6.02235882e-03\n",
            "  3.09142186e+04  5.44664159e+05  4.41794620e+04  1.90867559e+04\n",
            "  1.18869825e+05  4.88489661e+01  6.23430206e+01 -3.49278210e+03\n",
            "  1.16075344e+01 -1.62559054e+01  2.56168730e+01 -5.47325256e-01]\n"
          ],
          "name": "stdout"
        }
      ]
    },
    {
      "cell_type": "code",
      "metadata": {
        "colab": {
          "base_uri": "https://localhost:8080/",
          "height": 297
        },
        "id": "RUbwK6gg1D7z",
        "outputId": "e3ae8b59-d465-4058-fffa-8b11f17a12d0"
      },
      "source": [
        "# Comparing the actual vs the predicted values\n",
        "# \n",
        "comparison_df = pd.DataFrame({'Actual': y_test, 'Predicted': y_predict })\n",
        "comparison_df.describe()"
      ],
      "execution_count": null,
      "outputs": [
        {
          "output_type": "execute_result",
          "data": {
            "text/html": [
              "<div>\n",
              "<style scoped>\n",
              "    .dataframe tbody tr th:only-of-type {\n",
              "        vertical-align: middle;\n",
              "    }\n",
              "\n",
              "    .dataframe tbody tr th {\n",
              "        vertical-align: top;\n",
              "    }\n",
              "\n",
              "    .dataframe thead th {\n",
              "        text-align: right;\n",
              "    }\n",
              "</style>\n",
              "<table border=\"1\" class=\"dataframe\">\n",
              "  <thead>\n",
              "    <tr style=\"text-align: right;\">\n",
              "      <th></th>\n",
              "      <th>Actual</th>\n",
              "      <th>Predicted</th>\n",
              "    </tr>\n",
              "  </thead>\n",
              "  <tbody>\n",
              "    <tr>\n",
              "      <th>count</th>\n",
              "      <td>4.322000e+03</td>\n",
              "      <td>4.322000e+03</td>\n",
              "    </tr>\n",
              "    <tr>\n",
              "      <th>mean</th>\n",
              "      <td>5.493199e+05</td>\n",
              "      <td>5.424826e+05</td>\n",
              "    </tr>\n",
              "    <tr>\n",
              "      <th>std</th>\n",
              "      <td>3.765819e+05</td>\n",
              "      <td>2.988261e+05</td>\n",
              "    </tr>\n",
              "    <tr>\n",
              "      <th>min</th>\n",
              "      <td>8.200000e+04</td>\n",
              "      <td>-1.432117e+05</td>\n",
              "    </tr>\n",
              "    <tr>\n",
              "      <th>25%</th>\n",
              "      <td>3.246000e+05</td>\n",
              "      <td>3.397466e+05</td>\n",
              "    </tr>\n",
              "    <tr>\n",
              "      <th>50%</th>\n",
              "      <td>4.585000e+05</td>\n",
              "      <td>4.809418e+05</td>\n",
              "    </tr>\n",
              "    <tr>\n",
              "      <th>75%</th>\n",
              "      <td>6.500000e+05</td>\n",
              "      <td>6.724564e+05</td>\n",
              "    </tr>\n",
              "    <tr>\n",
              "      <th>max</th>\n",
              "      <td>5.570000e+06</td>\n",
              "      <td>3.103106e+06</td>\n",
              "    </tr>\n",
              "  </tbody>\n",
              "</table>\n",
              "</div>"
            ],
            "text/plain": [
              "             Actual     Predicted\n",
              "count  4.322000e+03  4.322000e+03\n",
              "mean   5.493199e+05  5.424826e+05\n",
              "std    3.765819e+05  2.988261e+05\n",
              "min    8.200000e+04 -1.432117e+05\n",
              "25%    3.246000e+05  3.397466e+05\n",
              "50%    4.585000e+05  4.809418e+05\n",
              "75%    6.500000e+05  6.724564e+05\n",
              "max    5.570000e+06  3.103106e+06"
            ]
          },
          "metadata": {
            "tags": []
          },
          "execution_count": 26
        }
      ]
    },
    {
      "cell_type": "markdown",
      "metadata": {
        "id": "7F9RAj4M1VTH"
      },
      "source": [
        "> Our predictions seem to be close to the actual data, except for the min and max values, which is okay"
      ]
    },
    {
      "cell_type": "code",
      "metadata": {
        "colab": {
          "base_uri": "https://localhost:8080/"
        },
        "id": "WnwHWhGv0rnU",
        "outputId": "6ec60c72-21f2-4179-9def-519a098b162b"
      },
      "source": [
        "#Calculating RMSE, MSE & R score\n",
        "#\n",
        "\n",
        "print('Root Mean Squared Error:', np.sqrt(metrics.mean_squared_error(y_test, y_predict)))  \n",
        "print('Mean Squared Error:', metrics.mean_squared_error(y_test, y_predict))\n",
        "print('Mean Squared Error:', r2_score(y_test, y_predict))"
      ],
      "execution_count": null,
      "outputs": [
        {
          "output_type": "stream",
          "text": [
            "Root Mean Squared Error: 217050.20182916627\n",
            "Mean Squared Error: 47110790114.08181\n",
            "Mean Squared Error: 0.6677217222450296\n"
          ],
          "name": "stdout"
        }
      ]
    },
    {
      "cell_type": "code",
      "metadata": {
        "colab": {
          "base_uri": "https://localhost:8080/",
          "height": 290
        },
        "id": "QDr00349gLHh",
        "outputId": "7e526530-79a2-4989-f597-6fedfdc21686"
      },
      "source": [
        "# Residual Plots & Heteroscedasticity\n",
        "# Plotting our residual plots\n",
        "#\n",
        "residuals = np.subtract(y_predict, y_test)\n",
        "plt.scatter(y_predict, residuals, color='black')\n",
        "plt.ylabel('residual')\n",
        "plt.xlabel('fitted values')\n",
        "plt.axhline(y= residuals.mean(), color='red', linewidth=1)\n",
        "plt.show()"
      ],
      "execution_count": null,
      "outputs": [
        {
          "output_type": "display_data",
          "data": {
            "image/png": "[encoded data removed]",
            "text/plain": [
              "<Figure size 432x288 with 1 Axes>"
            ]
          },
          "metadata": {
            "tags": [],
            "needs_background": "light"
          }
        }
      ]
    },
    {
      "cell_type": "markdown",
      "metadata": {
        "id": "lnXO9l8-2mb2"
      },
      "source": [
        "> Our residuals are randomnly scattered around 0, thus our model's predictions are correct on average"
      ]
    },
    {
      "cell_type": "code",
      "metadata": {
        "colab": {
          "base_uri": "https://localhost:8080/"
        },
        "id": "kbGjS5_stmW6",
        "outputId": "4ddbe609-5f00-43eb-8081-5e616c954a5b"
      },
      "source": [
        "# Using Bartlett test to check the homogeneity of our dataset\n",
        "#\n",
        "residuals = np.subtract(y_predict, y_test)\n",
        "\n",
        "pd.DataFrame(residuals).describe()\n",
        "\n",
        "residuals.mean()\n",
        "\n",
        "test_result, p_value = sp.stats.bartlett(y_predict, residuals)\n",
        "\n",
        "degree_of_freedom = len(y_predict) - 1\n",
        "\n",
        "probability = 1 - p_value\n",
        "\n",
        "critical_value = sp.stats.chi2.ppf(probability, degree_of_freedom)\n",
        "\n",
        "if (test_result > critical_value):\n",
        "    print('There are patterns to the variance of the data, thus our model should be reassesed')\n",
        "if (test_result < critical_value):\n",
        "  print('The variances are homogenous across our data')"
      ],
      "execution_count": null,
      "outputs": [
        {
          "output_type": "stream",
          "text": [
            "The variances are homogenous across our data\n"
          ],
          "name": "stdout"
        }
      ]
    },
    {
      "cell_type": "markdown",
      "metadata": {
        "id": "U3_EH7CrpDeA"
      },
      "source": [
        "> From the assumptions listed above, we can see that our model satisfies the assumptions for multiple linear regression. There is no multicollinearity as evidenced by our VIF scores less than 5. The variances of our errors are also homogenous, as seen in Bartlett's test above. The residual plot above, has also shown that that our residuals are randomnly distributed. However, our RMSE is quite high for this model."
      ]
    },
    {
      "cell_type": "markdown",
      "metadata": {
        "id": "HZ9dbBtz4HCH"
      },
      "source": [
        "### b) Quantile Regression"
      ]
    },
    {
      "cell_type": "markdown",
      "metadata": {
        "id": "6uVve-ayp5x4"
      },
      "source": [
        "Quantile regression is always preferred when heteroscedasticity is present in data and the distribution of our dependent variables can be described across various quantiles. It is more robust to outliers and is more useful than linear regression if your data is skewed. The coefficients for this method should differ significantly from those of the linear regression for it to be justifiable. It's assumptions are also similar to those of linear regression.\n"
      ]
    },
    {
      "cell_type": "code",
      "metadata": {
        "id": "42nAmLX2gPzA"
      },
      "source": [
        "# Defining our variables\n",
        "#\n",
        "X = df.drop(['price'],axis=1)\n",
        "Y = df['price']"
      ],
      "execution_count": null,
      "outputs": []
    },
    {
      "cell_type": "code",
      "metadata": {
        "colab": {
          "base_uri": "https://localhost:8080/"
        },
        "id": "qgzgfMCAiukG",
        "outputId": "6d4ce8e9-c1a0-409c-bbd1-e015e0e9dfc6"
      },
      "source": [
        "# Getting the shape of the predictor variables\n",
        "X.shape"
      ],
      "execution_count": null,
      "outputs": [
        {
          "output_type": "execute_result",
          "data": {
            "text/plain": [
              "(21610, 16)"
            ]
          },
          "metadata": {
            "tags": []
          },
          "execution_count": 31
        }
      ]
    },
    {
      "cell_type": "code",
      "metadata": {
        "id": "SNdGHLasjhaj"
      },
      "source": [
        "# Adding an extra array to our predictor variables to be able to perfrom a mathematical operation in the quantile regression\n",
        "# Defining the mean and standard deviation of our extra array to be a normal distribution of mean 0 and standard deviation of 0.001 to reduce any manipulation of our data.\n",
        "mu ,sigma = 0, 0.001\n",
        "#Generating a normal random variables with the same shape as our dataset\n",
        "noise = np.random.normal(mu, sigma , [21610,16])"
      ],
      "execution_count": null,
      "outputs": []
    },
    {
      "cell_type": "code",
      "metadata": {
        "id": "JHHrXXFIjo2R"
      },
      "source": [
        "#Adding the noise to our predictor variables\n",
        "X = X + noise"
      ],
      "execution_count": null,
      "outputs": []
    },
    {
      "cell_type": "code",
      "metadata": {
        "colab": {
          "base_uri": "https://localhost:8080/"
        },
        "id": "StDKOHOrjvuY",
        "outputId": "55fe56bd-b5f3-4211-a07f-074157fb94ec"
      },
      "source": [
        "#Performing a qauntile regression of the 50th percentile.\n",
        "import statsmodels.formula.api as smf \n",
        "mod =smf.quantreg('y ~ X',df)\n",
        "res = mod.fit(q=.5)\n",
        "\n",
        "print(res.summary())"
      ],
      "execution_count": null,
      "outputs": [
        {
          "output_type": "stream",
          "text": [
            "                         QuantReg Regression Results                          \n",
            "==============================================================================\n",
            "Dep. Variable:                      y   Pseudo R-squared:               0.3880\n",
            "Model:                       QuantReg   Bandwidth:                   2.445e+04\n",
            "Method:                 Least Squares   Sparsity:                    3.504e+05\n",
            "Date:                Sat, 24 Jul 2021   No. Observations:                21610\n",
            "Time:                        19:20:55   Df Residuals:                    21593\n",
            "                                        Df Model:                           16\n",
            "==============================================================================\n",
            "                 coef    std err          t      P>|t|      [0.025      0.975]\n",
            "------------------------------------------------------------------------------\n",
            "Intercept   2.137e+06   1.19e+05     18.008      0.000     1.9e+06    2.37e+06\n",
            "X[0]       -2.411e+04   1646.278    -14.644      0.000   -2.73e+04   -2.09e+04\n",
            "X[1]         995.2191   2831.606      0.351      0.725   -4554.937    6545.376\n",
            "X[2]        8283.7840     33.327    248.557      0.000    8218.460    8349.108\n",
            "X[3]           0.1016      0.042      2.442      0.015       0.020       0.183\n",
            "X[4]        3.719e+04   3113.313     11.946      0.000    3.11e+04    4.33e+04\n",
            "X[5]        4.649e+05   1.51e+04     30.772      0.000    4.35e+05    4.94e+05\n",
            "X[6]        3.845e+04   1850.687     20.777      0.000    3.48e+04    4.21e+04\n",
            "X[7]        4.087e+04   2043.838     19.997      0.000    3.69e+04    4.49e+04\n",
            "X[8]        1.096e+05   1827.310     60.004      0.000    1.06e+05    1.13e+05\n",
            "X[9]       -8194.6637     33.536   -244.357      0.000   -8260.396   -8128.931\n",
            "X[10]      -8149.7625     33.789   -241.198      0.000   -8215.991   -8083.534\n",
            "X[11]      -1477.1162     60.301    -24.496      0.000   -1595.311   -1358.921\n",
            "X[12]         33.8267      3.179     10.639      0.000      27.595      40.059\n",
            "X[13]        831.7415     69.959     11.889      0.000     694.618     968.865\n",
            "X[14]         47.8758      2.955     16.200      0.000      42.083      53.669\n",
            "X[15]         -0.4101      0.064     -6.451      0.000      -0.535      -0.285\n",
            "==============================================================================\n",
            "\n",
            "The condition number is large, 5.06e+07. This might indicate that there are\n",
            "strong multicollinearity or other numerical problems.\n"
          ],
          "name": "stdout"
        },
        {
          "output_type": "stream",
          "text": [
            "/usr/local/lib/python3.7/dist-packages/statsmodels/regression/quantile_regression.py:192: IterationLimitWarning: Maximum number of iterations (1000) reached.\n",
            "  \") reached.\", IterationLimitWarning)\n"
          ],
          "name": "stderr"
        }
      ]
    },
    {
      "cell_type": "markdown",
      "metadata": {
        "id": "T7WBZJJCvLMH"
      },
      "source": [
        "Since we did not drop our outliers and this method is more robust to outliers, this migt make it more justifiable to use this method. The assumptions for linear regression as listed previously, have been satisfied."
      ]
    },
    {
      "cell_type": "markdown",
      "metadata": {
        "id": "IISmR_8L432I"
      },
      "source": [
        "### c) Ridge Regression"
      ]
    },
    {
      "cell_type": "markdown",
      "metadata": {
        "id": "in42oKkpoZKj"
      },
      "source": [
        "This is a regularization method that penalises large coefficients so as to avoid overfitting of data. The assumptions for ridge regression are similar to linear regression, such as homogeneity of variances across samples, independence and linearity. However, as ridge regression does not provide confidence limits, the distribution of errors to be normal need not be assumed."
      ]
    },
    {
      "cell_type": "code",
      "metadata": {
        "colab": {
          "base_uri": "https://localhost:8080/"
        },
        "id": "o7MlYKqh47qW",
        "outputId": "310b3650-c20f-4f72-85c9-0980e108388a"
      },
      "source": [
        "# Creating our baseline regression model\n",
        "#\n",
        "X = df.drop(['price'],axis=1)\n",
        "y = df['price']\n",
        "regressor = LinearRegression()\n",
        "regressor.fit(X,y)\n",
        "print(regressor.intercept_)\n",
        "print(regressor.coef_)\n",
        "# Fitting the data\n",
        "#\n",
        "ridge = Ridge(normalize=True)\n",
        "ridge.fit(X,y)"
      ],
      "execution_count": null,
      "outputs": [
        {
          "output_type": "stream",
          "text": [
            "6199256.104172132\n",
            "[-3.93131003e+04  4.56943349e+04  1.09330331e+02 -2.08642193e-03\n",
            "  2.69689461e+04  5.78742159e+05  4.33936957e+04  1.95680525e+04\n",
            "  1.19824965e+05  5.15433380e+01  5.77869933e+01 -3.57270424e+03\n",
            "  1.03591285e+01 -1.37945946e+00  2.48785975e+01 -5.50273246e-01]\n"
          ],
          "name": "stdout"
        },
        {
          "output_type": "execute_result",
          "data": {
            "text/plain": [
              "Ridge(alpha=1.0, copy_X=True, fit_intercept=True, max_iter=None, normalize=True,\n",
              "      random_state=None, solver='auto', tol=0.001)"
            ]
          },
          "metadata": {
            "tags": []
          },
          "execution_count": 35
        }
      ]
    },
    {
      "cell_type": "code",
      "metadata": {
        "colab": {
          "base_uri": "https://localhost:8080/"
        },
        "id": "-GltZ6kw6eE7",
        "outputId": "3d45f4b6-20c7-4a0a-d2cf-9b8428832a94"
      },
      "source": [
        "#Calculating  MSE\n",
        "#\n",
        "baseline_model = (np.sqrt(mean_squared_error(y_true = y, y_pred = ridge.predict(X))))\n",
        "baseline_model"
      ],
      "execution_count": null,
      "outputs": [
        {
          "output_type": "execute_result",
          "data": {
            "text/plain": [
              "236760.49098304706"
            ]
          },
          "metadata": {
            "tags": []
          },
          "execution_count": 36
        }
      ]
    },
    {
      "cell_type": "markdown",
      "metadata": {
        "id": "V5xAvKSp9VWk"
      },
      "source": [
        "> This will be our indicator to determine if the regularized ridge regression model is superior or not."
      ]
    },
    {
      "cell_type": "code",
      "metadata": {
        "id": "JZo-Q-pM32Ct"
      },
      "source": [
        "# Hyperparameter tuning\n",
        "#\n",
        "X_train,X_test,y_train,y_test = train_test_split(X,y,test_size=0.25,random_state=101)\n",
        "#Standardizing our predictor variables\n",
        "from sklearn.preprocessing import StandardScaler\n",
        "scaler = StandardScaler()\n",
        "scaler.fit(X_train)\n",
        "X_train = scaler.transform(X_train)"
      ],
      "execution_count": null,
      "outputs": []
    },
    {
      "cell_type": "code",
      "metadata": {
        "id": "k-j08nCA6EEw"
      },
      "source": [
        "# We'll define lambda as alpha then grid search between the -5 and 2 values then used MSE as the value to look at.\n",
        "#\n",
        "ridge = Ridge(normalize=True)\n",
        "search = GridSearchCV(estimator=ridge,param_grid = {'alpha':np.logspace(-5,2,8)},scoring='neg_mean_squared_error',n_jobs=1,refit=True,cv=10)"
      ],
      "execution_count": null,
      "outputs": []
    },
    {
      "cell_type": "code",
      "metadata": {
        "colab": {
          "base_uri": "https://localhost:8080/"
        },
        "id": "Zdapag6u673v",
        "outputId": "65e06256-328a-48b1-a3b0-254dfb946926"
      },
      "source": [
        "# Fitting our variables\n",
        "#\n",
        "search.fit(X_train,y_train)\n",
        "search.best_params_"
      ],
      "execution_count": null,
      "outputs": [
        {
          "output_type": "execute_result",
          "data": {
            "text/plain": [
              "{'alpha': 0.001}"
            ]
          },
          "metadata": {
            "tags": []
          },
          "execution_count": 39
        }
      ]
    },
    {
      "cell_type": "markdown",
      "metadata": {
        "id": "HJ_BDIXM7SKb"
      },
      "source": [
        "best_params_ tells us to set alpha as 0.001"
      ]
    },
    {
      "cell_type": "code",
      "metadata": {
        "colab": {
          "base_uri": "https://localhost:8080/"
        },
        "id": "5-SLwcwbBwEs",
        "outputId": "869d67da-3387-4dd3-e87e-3fda1884c3e8"
      },
      "source": [
        "# Creating a second model to find the best possible mean squared error using best_score\n",
        "ridge = Ridge(normalize=True,alpha=0.001)\n",
        "ridge.fit(X_train,y_train)\n",
        "second_model = (np.sqrt(mean_squared_error(y_true = y_test, y_pred = ridge.predict(X_test))))\n",
        "print(\"The RMSE of the ridge model is: \",second_model)"
      ],
      "execution_count": null,
      "outputs": [
        {
          "output_type": "stream",
          "text": [
            "The RMSE of the ridge model is:  417470097.7320135\n"
          ],
          "name": "stdout"
        }
      ]
    },
    {
      "cell_type": "code",
      "metadata": {
        "colab": {
          "base_uri": "https://localhost:8080/"
        },
        "id": "9-cCmwwyIpPS",
        "outputId": "1267b8bf-bbed-41f4-df48-921034e924cb"
      },
      "source": [
        "# Finding out the score of the ridge regression model\n",
        "#\n",
        "ridge.score(X_test,y_test)"
      ],
      "execution_count": null,
      "outputs": [
        {
          "output_type": "execute_result",
          "data": {
            "text/plain": [
              "-1281554.3131297394"
            ]
          },
          "metadata": {
            "tags": []
          },
          "execution_count": 41
        }
      ]
    },
    {
      "cell_type": "markdown",
      "metadata": {
        "id": "h7GTiROLIzA-"
      },
      "source": [
        "> This model has an R2 score of 66.15%"
      ]
    },
    {
      "cell_type": "code",
      "metadata": {
        "colab": {
          "base_uri": "https://localhost:8080/"
        },
        "id": "5KfmOJDSJTOQ",
        "outputId": "f8a95c1e-a66a-4bba-adab-d6177a3a3c50"
      },
      "source": [
        "#Printing out the variable coefficients of the ridge model.\n",
        "#\n",
        "\n",
        "coef_dict_baseline = {}\n",
        "for coef,feat in zip(ridge.coef_,X.columns):\n",
        "  coef_dict_baseline[feat] = coef \n",
        "coef_dict_baseline "
      ],
      "execution_count": null,
      "outputs": [
        {
          "output_type": "execute_result",
          "data": {
            "text/plain": [
              "{'bathrooms': 32428.139865323574,\n",
              " 'bedrooms': -37593.450952942345,\n",
              " 'condition': 11587.432817939603,\n",
              " 'floors': 16261.598947079874,\n",
              " 'grade': 140478.5881785726,\n",
              " 'sqft_above': 64845.559718818186,\n",
              " 'sqft_basement': 39993.805021297,\n",
              " 'sqft_living': 77777.12649777568,\n",
              " 'sqft_living15': 14553.381313109518,\n",
              " 'sqft_lot': -83.79735522966824,\n",
              " 'sqft_lot15': -14648.00868885603,\n",
              " 'view': 34698.09127192108,\n",
              " 'waterfront': 47412.89416227505,\n",
              " 'yr_built': -104141.43796480147,\n",
              " 'yr_renovated': 3183.7783306957617,\n",
              " 'zipcode': -859.272999994862}"
            ]
          },
          "metadata": {
            "tags": []
          },
          "execution_count": 42
        }
      ]
    },
    {
      "cell_type": "markdown",
      "metadata": {
        "id": "P64oQ8KYxx1W"
      },
      "source": [
        "The RMSE was very high, just as in the previous models. However, it penalized the constant coefficients better than the previous regressions. However, it doesn't perform feature selection like Lasso regression."
      ]
    },
    {
      "cell_type": "markdown",
      "metadata": {
        "id": "CWRA4LppkGmV"
      },
      "source": [
        "### d) Lasso Regression\n",
        "This method is best for high collinearity. It performs L1 regularisation which adds a penalty equal to the absolute value of the magnitude of the coefficients. The assumptions are similar to the linear regression models."
      ]
    },
    {
      "cell_type": "code",
      "metadata": {
        "id": "ByGzIaRhkKGD"
      },
      "source": [
        "# Defining our variables\n",
        "#\n",
        "X = df.drop(['price'],axis=1)\n",
        "y = df['price']\n",
        "lasso = linear_model.Lasso()"
      ],
      "execution_count": null,
      "outputs": []
    },
    {
      "cell_type": "code",
      "metadata": {
        "colab": {
          "base_uri": "https://localhost:8080/"
        },
        "id": "upoCsAwWkvkJ",
        "outputId": "2bf0b7ac-dd96-4262-b465-66e864b0f8a1"
      },
      "source": [
        "# Fitting our data in a lasso regression\n",
        "#\n",
        "lasso.fit(X,y)\n",
        "#Calculating the root mean squared error\n",
        "\n",
        "print('lasso RMSE: ', np.sqrt(mean_squared_error(y, lasso.predict(X))))"
      ],
      "execution_count": null,
      "outputs": [
        {
          "output_type": "stream",
          "text": [
            "lasso RMSE:  216153.7035927398\n"
          ],
          "name": "stdout"
        }
      ]
    },
    {
      "cell_type": "code",
      "metadata": {
        "id": "-t5YPVVQla0I"
      },
      "source": [
        "# Hyperparameter tuning\n",
        "#\n",
        "# Defining our variables\n",
        "X = df.drop(['price'],axis=1)\n",
        "y = df['price']\n",
        "X_train,X_test,y_train,y_test = train_test_split(X,y,test_size=0.25,random_state=101)\n",
        "\n",
        "# Standardizing our predictor variables\n",
        "#\n",
        "scaler = StandardScaler()\n",
        "scaler.fit(X_train)\n",
        "X_train = scaler.transform(X_train)\n",
        "\n",
        "# Defining the alpha parameters\n",
        "#\n",
        "parameters = {'alpha':np.concatenate((np.arange(0.1,2,0.1),np.arange(2,5,0.5),np.arange(5,30,1)))}"
      ],
      "execution_count": null,
      "outputs": []
    },
    {
      "cell_type": "code",
      "metadata": {
        "id": "SxSmnEZsmNWq"
      },
      "source": [
        "# Grid Searching for the best parameters & cross validating with 30 models\n",
        "#\n",
        "lasso = linear_model.Lasso()\n",
        "gridlasso = GridSearchCV(lasso,parameters,scoring='r2',n_jobs=1,refit=True,cv=30)"
      ],
      "execution_count": null,
      "outputs": []
    },
    {
      "cell_type": "code",
      "metadata": {
        "colab": {
          "base_uri": "https://localhost:8080/"
        },
        "id": "lpZ-Ap013uk-",
        "outputId": "bf5b5e41-d8af-43db-a59c-0cdda9879496"
      },
      "source": [
        "# Fitting the hyperparameters on a lasso model\n",
        "#\n",
        "lasso.fit(X_train,y_train)"
      ],
      "execution_count": null,
      "outputs": [
        {
          "output_type": "execute_result",
          "data": {
            "text/plain": [
              "Lasso(alpha=1.0, copy_X=True, fit_intercept=True, max_iter=1000,\n",
              "      normalize=False, positive=False, precompute=False, random_state=None,\n",
              "      selection='cyclic', tol=0.0001, warm_start=False)"
            ]
          },
          "metadata": {
            "tags": []
          },
          "execution_count": 47
        }
      ]
    },
    {
      "cell_type": "code",
      "metadata": {
        "id": "1UUKPNK0myX9",
        "colab": {
          "base_uri": "https://localhost:8080/"
        },
        "outputId": "1a0b5dae-93d2-4b89-fae6-914c21af1cd1"
      },
      "source": [
        "# Fitting the hyperparameters on a lasso regression model\n",
        "#\n",
        "lasso = linear_model.Lasso(normalize=True,alpha=29.0)\n",
        "lasso.fit(X_train,y_train)"
      ],
      "execution_count": null,
      "outputs": [
        {
          "output_type": "execute_result",
          "data": {
            "text/plain": [
              "Lasso(alpha=29.0, copy_X=True, fit_intercept=True, max_iter=1000,\n",
              "      normalize=True, positive=False, precompute=False, random_state=None,\n",
              "      selection='cyclic', tol=0.0001, warm_start=False)"
            ]
          },
          "metadata": {
            "tags": []
          },
          "execution_count": 48
        }
      ]
    },
    {
      "cell_type": "code",
      "metadata": {
        "id": "PgnALX-Qm1c7",
        "colab": {
          "base_uri": "https://localhost:8080/"
        },
        "outputId": "c7ef4132-7631-40df-b2e8-645e1910018f"
      },
      "source": [
        "# Printing out the RMSE for the lasso model\n",
        "#\n",
        "print('lasso RMSE: ',np.sqrt(mean_squared_error(y_test,lasso.predict(X_test))))"
      ],
      "execution_count": null,
      "outputs": [
        {
          "output_type": "stream",
          "text": [
            "lasso RMSE:  298338578.5898798\n"
          ],
          "name": "stdout"
        }
      ]
    },
    {
      "cell_type": "code",
      "metadata": {
        "id": "HI0GOfb9nJyS",
        "colab": {
          "base_uri": "https://localhost:8080/"
        },
        "outputId": "ac3a4bbc-1f3e-40a3-a8e1-e855fcdf8597"
      },
      "source": [
        "# Finding out the score of the lasso regression model\n",
        "#\n",
        "lasso.score(X_test,y_test) "
      ],
      "execution_count": null,
      "outputs": [
        {
          "output_type": "execute_result",
          "data": {
            "text/plain": [
              "-654492.6552455759"
            ]
          },
          "metadata": {
            "tags": []
          },
          "execution_count": 50
        }
      ]
    },
    {
      "cell_type": "markdown",
      "metadata": {
        "id": "WLxgZO6qnP34"
      },
      "source": [
        "> This model fitted 65.91% of our data"
      ]
    },
    {
      "cell_type": "code",
      "metadata": {
        "id": "CP2-coSCnWmR",
        "colab": {
          "base_uri": "https://localhost:8080/"
        },
        "outputId": "e4e8f1bc-777e-4bb5-83e2-1f013cc89bc6"
      },
      "source": [
        "# Printing out the columns and the respective coefficients.\n",
        "#\n",
        "coef_dict_baseline = {}\n",
        "for coef,feat in zip(lasso.coef_,X.columns):\n",
        "  coef_dict_baseline[feat] = coef\n",
        "coef_dict_baseline"
      ],
      "execution_count": null,
      "outputs": [
        {
          "output_type": "execute_result",
          "data": {
            "text/plain": [
              "{'bathrooms': 26743.22705626591,\n",
              " 'bedrooms': -27739.66318130738,\n",
              " 'condition': 8072.818449669942,\n",
              " 'floors': 9805.434952252277,\n",
              " 'grade': 140250.50659865365,\n",
              " 'sqft_above': 0.0,\n",
              " 'sqft_basement': 1583.887472801132,\n",
              " 'sqft_living': 148852.81819924738,\n",
              " 'sqft_living15': 10195.19254311457,\n",
              " 'sqft_lot': -0.0,\n",
              " 'sqft_lot15': -10318.063036928634,\n",
              " 'view': 35338.670180585126,\n",
              " 'waterfront': 45229.558871808724,\n",
              " 'yr_built': -96373.77871457551,\n",
              " 'yr_renovated': 1510.4494870577726,\n",
              " 'zipcode': 0.0}"
            ]
          },
          "metadata": {
            "tags": []
          },
          "execution_count": 51
        }
      ]
    },
    {
      "cell_type": "markdown",
      "metadata": {
        "id": "sEn8wxI_nnCq"
      },
      "source": [
        "### e) Elastic Net Regression"
      ]
    },
    {
      "cell_type": "code",
      "metadata": {
        "id": "r4bfOQLFnu_M"
      },
      "source": [
        "# Baseline model\n",
        "# Defining our variables.\n",
        "#\n",
        "X = df.drop(['price'],axis=1)\n",
        "y = df['price']"
      ],
      "execution_count": null,
      "outputs": []
    },
    {
      "cell_type": "code",
      "metadata": {
        "colab": {
          "base_uri": "https://localhost:8080/"
        },
        "id": "kPg7VyWdpYUl",
        "outputId": "7d103e5f-e276-4414-8068-b7a573ba895b"
      },
      "source": [
        "# Fitting our predictor variables in an ElasticNet regression\n",
        "#\n",
        "from sklearn.linear_model import ElasticNet\n",
        "\n",
        "elastic = ElasticNet(normalize=True)\n",
        "elastic.fit(X,y)"
      ],
      "execution_count": null,
      "outputs": [
        {
          "output_type": "execute_result",
          "data": {
            "text/plain": [
              "ElasticNet(alpha=1.0, copy_X=True, fit_intercept=True, l1_ratio=0.5,\n",
              "           max_iter=1000, normalize=True, positive=False, precompute=False,\n",
              "           random_state=None, selection='cyclic', tol=0.0001, warm_start=False)"
            ]
          },
          "metadata": {
            "tags": []
          },
          "execution_count": 53
        }
      ]
    },
    {
      "cell_type": "code",
      "metadata": {
        "colab": {
          "base_uri": "https://localhost:8080/"
        },
        "id": "k76tFep1pgE_",
        "outputId": "26eba761-d7e4-400f-fea4-c174b0c86607"
      },
      "source": [
        "# Finding the RMSE \n",
        "#\n",
        "print('Elastic Net MSE:' ,np.sqrt(mean_squared_error(y_true = y,y_pred=elastic.predict(X))))"
      ],
      "execution_count": null,
      "outputs": [
        {
          "output_type": "stream",
          "text": [
            "Elastic Net MSE: 367295.6562423898\n"
          ],
          "name": "stdout"
        }
      ]
    },
    {
      "cell_type": "code",
      "metadata": {
        "id": "UHw_M_nJpkEm"
      },
      "source": [
        "# Hyperparameter tuning\n",
        "\n",
        "# Splitting our data into a train and test model\n",
        "#\n",
        "X_train,X_test,y_train,y_test = train_test_split(X,y,test_size=0.25,random_state=101)"
      ],
      "execution_count": null,
      "outputs": []
    },
    {
      "cell_type": "code",
      "metadata": {
        "id": "hLhse6B9pv4p"
      },
      "source": [
        "# Standardizing our predictor variables\n",
        "# \n",
        "scaler = StandardScaler()\n",
        "scaler.fit(X_train)\n",
        "X_train = scaler.transform(X_train)"
      ],
      "execution_count": null,
      "outputs": []
    },
    {
      "cell_type": "code",
      "metadata": {
        "id": "GkmNQgJFp1OJ"
      },
      "source": [
        "#Searching for the best parameters for both parameters\n",
        "#\n",
        "elastic = ElasticNet(normalize=True)\n",
        "search = GridSearchCV(estimator=elastic,param_grid={'alpha':np.logspace(-5,2,8),'l1_ratio':[0.2,0.4,0.6,0.8]},scoring='neg_mean_squared_error',n_jobs=1,refit=True,cv=10)"
      ],
      "execution_count": null,
      "outputs": []
    },
    {
      "cell_type": "code",
      "metadata": {
        "colab": {
          "base_uri": "https://localhost:8080/"
        },
        "id": "scoAAboiqCPw",
        "outputId": "680d476b-c9a8-485d-849e-cb58931d9439"
      },
      "source": [
        "# Fitting the data into our grid\n",
        "#\n",
        "search.fit(X_train,y_train)"
      ],
      "execution_count": null,
      "outputs": [
        {
          "output_type": "execute_result",
          "data": {
            "text/plain": [
              "GridSearchCV(cv=10, error_score=nan,\n",
              "             estimator=ElasticNet(alpha=1.0, copy_X=True, fit_intercept=True,\n",
              "                                  l1_ratio=0.5, max_iter=1000, normalize=True,\n",
              "                                  positive=False, precompute=False,\n",
              "                                  random_state=None, selection='cyclic',\n",
              "                                  tol=0.0001, warm_start=False),\n",
              "             iid='deprecated', n_jobs=1,\n",
              "             param_grid={'alpha': array([1.e-05, 1.e-04, 1.e-03, 1.e-02, 1.e-01, 1.e+00, 1.e+01, 1.e+02]),\n",
              "                         'l1_ratio': [0.2, 0.4, 0.6, 0.8]},\n",
              "             pre_dispatch='2*n_jobs', refit=True, return_train_score=False,\n",
              "             scoring='neg_mean_squared_error', verbose=0)"
            ]
          },
          "metadata": {
            "tags": []
          },
          "execution_count": 58
        }
      ]
    },
    {
      "cell_type": "code",
      "metadata": {
        "colab": {
          "base_uri": "https://localhost:8080/"
        },
        "id": "xUS0uWf0qHY2",
        "outputId": "1090e62d-b3b5-4828-fdb8-5f5ba7d7480c"
      },
      "source": [
        "# Getting the best parameters for our model\n",
        "#\n",
        "search.best_params_"
      ],
      "execution_count": null,
      "outputs": [
        {
          "output_type": "execute_result",
          "data": {
            "text/plain": [
              "{'alpha': 1e-05, 'l1_ratio': 0.8}"
            ]
          },
          "metadata": {
            "tags": []
          },
          "execution_count": 59
        }
      ]
    },
    {
      "cell_type": "code",
      "metadata": {
        "colab": {
          "base_uri": "https://localhost:8080/"
        },
        "id": "-FM-UZZOqOLn",
        "outputId": "8a9af8de-fe3b-448a-a88e-0e4599713aae"
      },
      "source": [
        "# Fitting the best parameters to our model\n",
        "#\n",
        "elastic = ElasticNet(normalize=True,alpha=0.00001,l1_ratio=0.8)\n",
        "elastic.fit(X_train,y_train)"
      ],
      "execution_count": null,
      "outputs": [
        {
          "output_type": "execute_result",
          "data": {
            "text/plain": [
              "ElasticNet(alpha=1e-05, copy_X=True, fit_intercept=True, l1_ratio=0.8,\n",
              "           max_iter=1000, normalize=True, positive=False, precompute=False,\n",
              "           random_state=None, selection='cyclic', tol=0.0001, warm_start=False)"
            ]
          },
          "metadata": {
            "tags": []
          },
          "execution_count": 60
        }
      ]
    },
    {
      "cell_type": "code",
      "metadata": {
        "colab": {
          "base_uri": "https://localhost:8080/"
        },
        "id": "kIkFJusVqRMZ",
        "outputId": "9f55b6b4-6029-4f49-c8d5-f11b1f8829cc"
      },
      "source": [
        "# Printing out the RMSE \n",
        "#\n",
        "print('Elastic Net RMSE:' ,np.sqrt(mean_squared_error(y_true = y_test,y_pred=elastic.predict(X_test))))"
      ],
      "execution_count": null,
      "outputs": [
        {
          "output_type": "stream",
          "text": [
            "Elastic Net RMSE: 394654549.2823781\n"
          ],
          "name": "stdout"
        }
      ]
    },
    {
      "cell_type": "code",
      "metadata": {
        "colab": {
          "base_uri": "https://localhost:8080/"
        },
        "id": "w79H2QNDshnp",
        "outputId": "5659a466-92c0-40ff-9085-677c07a668a2"
      },
      "source": [
        "#Printing out the coefficients for our predictor variables.\n",
        "#\n",
        "coef_dict_baseline = {}\n",
        "for coef,feat in zip(elastic.coef_,X.columns):\n",
        "  coef_dict_baseline[feat] = coef\n",
        "coef_dict_baseline  "
      ],
      "execution_count": null,
      "outputs": [
        {
          "output_type": "execute_result",
          "data": {
            "text/plain": [
              "{'bathrooms': 31338.21343843636,\n",
              " 'bedrooms': -34199.78112580093,\n",
              " 'condition': 12805.35811866268,\n",
              " 'floors': 16063.757423339815,\n",
              " 'grade': 130963.51491411222,\n",
              " 'sqft_above': 63573.646449201566,\n",
              " 'sqft_basement': 39455.03533334449,\n",
              " 'sqft_living': 76370.1320817678,\n",
              " 'sqft_living15': 19903.400505614747,\n",
              " 'sqft_lot': -133.48651364611732,\n",
              " 'sqft_lot15': -13900.50921159577,\n",
              " 'view': 35660.881600316294,\n",
              " 'waterfront': 46249.79727735561,\n",
              " 'yr_built': -96014.23796159924,\n",
              " 'yr_renovated': 5054.176431971831,\n",
              " 'zipcode': 1218.1097172841896}"
            ]
          },
          "metadata": {
            "tags": []
          },
          "execution_count": 62
        }
      ]
    },
    {
      "cell_type": "code",
      "metadata": {
        "colab": {
          "base_uri": "https://localhost:8080/"
        },
        "id": "KoRz9R4Vsot-",
        "outputId": "97f0d3af-472d-47c1-908e-1d517b74ab92"
      },
      "source": [
        "# Printing out how our model best fits our data \n",
        "#\n",
        "elastic.score(X_test,y_test)"
      ],
      "execution_count": null,
      "outputs": [
        {
          "output_type": "execute_result",
          "data": {
            "text/plain": [
              "-1145303.1519047034"
            ]
          },
          "metadata": {
            "tags": []
          },
          "execution_count": 63
        }
      ]
    },
    {
      "cell_type": "markdown",
      "metadata": {
        "id": "AqeQKWi96TjZ"
      },
      "source": [
        "> Our elastic net R squared score is definitely not right, which may mean that we may need to refit our model."
      ]
    },
    {
      "cell_type": "markdown",
      "metadata": {
        "id": "lQ2G4ZPDVOXE"
      },
      "source": [
        "## 7. Evaluation & Recommendation"
      ]
    },
    {
      "cell_type": "markdown",
      "metadata": {
        "id": "xkDNH88CmCVG"
      },
      "source": [
        " None of our scores have a VIF of above 5, thus we can conclude that there is very low multicollinearity in independent variables and thus can be ignored. Had it been 5 or more, that would have been an issue for us. The RMSEs from our different models are all consistently high, which begs the question as to whether we can use different variables to improve our model. The R2 for our models was 66.15% for ridge regression, 65.91% for Lasso.\n",
        " I would prefer the Lasso model as it did feature reduction andits r2 score is fair as compared to the other models."
      ]
    },
    {
      "cell_type": "markdown",
      "metadata": {
        "id": "5rP93Zll5j2Q"
      },
      "source": [
        "# 9. Challenging the Solution\n",
        "> We may need to get different variables that may make our predictions better, to get a lower RMSE for all of our models. "
      ]
    }
  ]
}